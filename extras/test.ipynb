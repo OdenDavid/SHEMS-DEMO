{
 "cells": [
  {
   "cell_type": "code",
   "execution_count": 5,
   "metadata": {},
   "outputs": [],
   "source": [
    "import pandas as pd\n",
    "import numpy as np\n",
    "\n",
    "# Create a date range for 1 day, with hourly frequency\n",
    "date_range = pd.date_range(start='2024-07-23', periods=24, freq='H')\n",
    "\n",
    "# Generate random data points for Air-Conditioner and Fridge\n",
    "np.random.seed(0)  # For reproducibility\n",
    "air_conditioner_kwh = np.random.uniform(0.1, 0.5, 24)  # Random values between 0.1 and 0.5 kWh\n",
    "fridge_kwh = np.random.uniform(0.05, 0.2, 24)  # Random values between 0.05 and 0.2 kWh\n",
    "\n",
    "# Generate random data points for Energy Produced\n",
    "energy_produced_kwh = np.random.uniform(0.5, 1.0, 24)  # Random values between 0.5 and 1.0 kWh\n",
    "\n",
    "# Create a dictionary with the generated data\n",
    "data = {\n",
    "    'Date': date_range,\n",
    "    'Air-Conditioner (kWh)': air_conditioner_kwh,\n",
    "    'Fridge (kWh)': fridge_kwh,\n",
    "    'Energy Produced (kWh)': energy_produced_kwh\n",
    "}\n",
    "\n",
    "# Create a DataFrame\n",
    "df = pd.DataFrame(data)\n",
    "\n",
    "# Set the 'Date' column as the index\n",
    "df.set_index('Date', inplace=True)\n",
    "\n",
    "df.to_csv(\"dummy.csv\")"
   ]
  },
  {
   "cell_type": "code",
   "execution_count": 6,
   "metadata": {},
   "outputs": [
    {
     "data": {
      "text/html": [
       "<div>\n",
       "<style scoped>\n",
       "    .dataframe tbody tr th:only-of-type {\n",
       "        vertical-align: middle;\n",
       "    }\n",
       "\n",
       "    .dataframe tbody tr th {\n",
       "        vertical-align: top;\n",
       "    }\n",
       "\n",
       "    .dataframe thead th {\n",
       "        text-align: right;\n",
       "    }\n",
       "</style>\n",
       "<table border=\"1\" class=\"dataframe\">\n",
       "  <thead>\n",
       "    <tr style=\"text-align: right;\">\n",
       "      <th></th>\n",
       "      <th>Air-Conditioner (kWh)</th>\n",
       "      <th>Fridge (kWh)</th>\n",
       "      <th>Energy Produced (kWh)</th>\n",
       "    </tr>\n",
       "    <tr>\n",
       "      <th>Date</th>\n",
       "      <th></th>\n",
       "      <th></th>\n",
       "      <th></th>\n",
       "    </tr>\n",
       "  </thead>\n",
       "  <tbody>\n",
       "    <tr>\n",
       "      <th>2024-07-23 00:00:00</th>\n",
       "      <td>0.319525</td>\n",
       "      <td>0.067741</td>\n",
       "      <td>0.657714</td>\n",
       "    </tr>\n",
       "    <tr>\n",
       "      <th>2024-07-23 01:00:00</th>\n",
       "      <td>0.386076</td>\n",
       "      <td>0.145988</td>\n",
       "      <td>0.681855</td>\n",
       "    </tr>\n",
       "    <tr>\n",
       "      <th>2024-07-23 02:00:00</th>\n",
       "      <td>0.341105</td>\n",
       "      <td>0.071503</td>\n",
       "      <td>0.785098</td>\n",
       "    </tr>\n",
       "    <tr>\n",
       "      <th>2024-07-23 03:00:00</th>\n",
       "      <td>0.317953</td>\n",
       "      <td>0.191700</td>\n",
       "      <td>0.719301</td>\n",
       "    </tr>\n",
       "    <tr>\n",
       "      <th>2024-07-23 04:00:00</th>\n",
       "      <td>0.269462</td>\n",
       "      <td>0.128277</td>\n",
       "      <td>0.994187</td>\n",
       "    </tr>\n",
       "    <tr>\n",
       "      <th>2024-07-23 05:00:00</th>\n",
       "      <td>0.358358</td>\n",
       "      <td>0.112199</td>\n",
       "      <td>0.551022</td>\n",
       "    </tr>\n",
       "    <tr>\n",
       "      <th>2024-07-23 06:00:00</th>\n",
       "      <td>0.275035</td>\n",
       "      <td>0.089683</td>\n",
       "      <td>0.604438</td>\n",
       "    </tr>\n",
       "    <tr>\n",
       "      <th>2024-07-23 07:00:00</th>\n",
       "      <td>0.456709</td>\n",
       "      <td>0.166135</td>\n",
       "      <td>0.580655</td>\n",
       "    </tr>\n",
       "    <tr>\n",
       "      <th>2024-07-23 08:00:00</th>\n",
       "      <td>0.485465</td>\n",
       "      <td>0.118423</td>\n",
       "      <td>0.826554</td>\n",
       "    </tr>\n",
       "    <tr>\n",
       "      <th>2024-07-23 09:00:00</th>\n",
       "      <td>0.253377</td>\n",
       "      <td>0.135265</td>\n",
       "      <td>0.626646</td>\n",
       "    </tr>\n",
       "    <tr>\n",
       "      <th>2024-07-23 10:00:00</th>\n",
       "      <td>0.416690</td>\n",
       "      <td>0.052818</td>\n",
       "      <td>0.733155</td>\n",
       "    </tr>\n",
       "    <tr>\n",
       "      <th>2024-07-23 11:00:00</th>\n",
       "      <td>0.311558</td>\n",
       "      <td>0.142645</td>\n",
       "      <td>0.622213</td>\n",
       "    </tr>\n",
       "    <tr>\n",
       "      <th>2024-07-23 12:00:00</th>\n",
       "      <td>0.327218</td>\n",
       "      <td>0.141814</td>\n",
       "      <td>0.579485</td>\n",
       "    </tr>\n",
       "    <tr>\n",
       "      <th>2024-07-23 13:00:00</th>\n",
       "      <td>0.470239</td>\n",
       "      <td>0.142540</td>\n",
       "      <td>0.555188</td>\n",
       "    </tr>\n",
       "    <tr>\n",
       "      <th>2024-07-23 14:00:00</th>\n",
       "      <td>0.128414</td>\n",
       "      <td>0.191562</td>\n",
       "      <td>0.828165</td>\n",
       "    </tr>\n",
       "    <tr>\n",
       "      <th>2024-07-23 15:00:00</th>\n",
       "      <td>0.134852</td>\n",
       "      <td>0.152273</td>\n",
       "      <td>0.569091</td>\n",
       "    </tr>\n",
       "    <tr>\n",
       "      <th>2024-07-23 16:00:00</th>\n",
       "      <td>0.108087</td>\n",
       "      <td>0.103926</td>\n",
       "      <td>0.598291</td>\n",
       "    </tr>\n",
       "    <tr>\n",
       "      <th>2024-07-23 17:00:00</th>\n",
       "      <td>0.433048</td>\n",
       "      <td>0.115555</td>\n",
       "      <td>0.684363</td>\n",
       "    </tr>\n",
       "    <tr>\n",
       "      <th>2024-07-23 18:00:00</th>\n",
       "      <td>0.411263</td>\n",
       "      <td>0.154645</td>\n",
       "      <td>0.910497</td>\n",
       "    </tr>\n",
       "    <tr>\n",
       "      <th>2024-07-23 19:00:00</th>\n",
       "      <td>0.448005</td>\n",
       "      <td>0.059034</td>\n",
       "      <td>0.548551</td>\n",
       "    </tr>\n",
       "    <tr>\n",
       "      <th>2024-07-23 20:00:00</th>\n",
       "      <td>0.491447</td>\n",
       "      <td>0.150015</td>\n",
       "      <td>0.918972</td>\n",
       "    </tr>\n",
       "    <tr>\n",
       "      <th>2024-07-23 21:00:00</th>\n",
       "      <td>0.419663</td>\n",
       "      <td>0.150596</td>\n",
       "      <td>0.548049</td>\n",
       "    </tr>\n",
       "    <tr>\n",
       "      <th>2024-07-23 22:00:00</th>\n",
       "      <td>0.284592</td>\n",
       "      <td>0.081557</td>\n",
       "      <td>0.988230</td>\n",
       "    </tr>\n",
       "    <tr>\n",
       "      <th>2024-07-23 23:00:00</th>\n",
       "      <td>0.412212</td>\n",
       "      <td>0.069339</td>\n",
       "      <td>0.734326</td>\n",
       "    </tr>\n",
       "  </tbody>\n",
       "</table>\n",
       "</div>"
      ],
      "text/plain": [
       "                     Air-Conditioner (kWh)  Fridge (kWh)  \\\n",
       "Date                                                       \n",
       "2024-07-23 00:00:00               0.319525      0.067741   \n",
       "2024-07-23 01:00:00               0.386076      0.145988   \n",
       "2024-07-23 02:00:00               0.341105      0.071503   \n",
       "2024-07-23 03:00:00               0.317953      0.191700   \n",
       "2024-07-23 04:00:00               0.269462      0.128277   \n",
       "2024-07-23 05:00:00               0.358358      0.112199   \n",
       "2024-07-23 06:00:00               0.275035      0.089683   \n",
       "2024-07-23 07:00:00               0.456709      0.166135   \n",
       "2024-07-23 08:00:00               0.485465      0.118423   \n",
       "2024-07-23 09:00:00               0.253377      0.135265   \n",
       "2024-07-23 10:00:00               0.416690      0.052818   \n",
       "2024-07-23 11:00:00               0.311558      0.142645   \n",
       "2024-07-23 12:00:00               0.327218      0.141814   \n",
       "2024-07-23 13:00:00               0.470239      0.142540   \n",
       "2024-07-23 14:00:00               0.128414      0.191562   \n",
       "2024-07-23 15:00:00               0.134852      0.152273   \n",
       "2024-07-23 16:00:00               0.108087      0.103926   \n",
       "2024-07-23 17:00:00               0.433048      0.115555   \n",
       "2024-07-23 18:00:00               0.411263      0.154645   \n",
       "2024-07-23 19:00:00               0.448005      0.059034   \n",
       "2024-07-23 20:00:00               0.491447      0.150015   \n",
       "2024-07-23 21:00:00               0.419663      0.150596   \n",
       "2024-07-23 22:00:00               0.284592      0.081557   \n",
       "2024-07-23 23:00:00               0.412212      0.069339   \n",
       "\n",
       "                     Energy Produced (kWh)  \n",
       "Date                                        \n",
       "2024-07-23 00:00:00               0.657714  \n",
       "2024-07-23 01:00:00               0.681855  \n",
       "2024-07-23 02:00:00               0.785098  \n",
       "2024-07-23 03:00:00               0.719301  \n",
       "2024-07-23 04:00:00               0.994187  \n",
       "2024-07-23 05:00:00               0.551022  \n",
       "2024-07-23 06:00:00               0.604438  \n",
       "2024-07-23 07:00:00               0.580655  \n",
       "2024-07-23 08:00:00               0.826554  \n",
       "2024-07-23 09:00:00               0.626646  \n",
       "2024-07-23 10:00:00               0.733155  \n",
       "2024-07-23 11:00:00               0.622213  \n",
       "2024-07-23 12:00:00               0.579485  \n",
       "2024-07-23 13:00:00               0.555188  \n",
       "2024-07-23 14:00:00               0.828165  \n",
       "2024-07-23 15:00:00               0.569091  \n",
       "2024-07-23 16:00:00               0.598291  \n",
       "2024-07-23 17:00:00               0.684363  \n",
       "2024-07-23 18:00:00               0.910497  \n",
       "2024-07-23 19:00:00               0.548551  \n",
       "2024-07-23 20:00:00               0.918972  \n",
       "2024-07-23 21:00:00               0.548049  \n",
       "2024-07-23 22:00:00               0.988230  \n",
       "2024-07-23 23:00:00               0.734326  "
      ]
     },
     "execution_count": 6,
     "metadata": {},
     "output_type": "execute_result"
    }
   ],
   "source": [
    "df"
   ]
  },
  {
   "cell_type": "code",
   "execution_count": 2,
   "metadata": {},
   "outputs": [
    {
     "data": {
      "application/vnd.plotly.v1+json": {
       "config": {
        "plotlyServerURL": "https://plot.ly"
       },
       "data": [
        {
         "hovertemplate": "variable=Air-Conditioner (kWh)<br>Hour=%{x}<br>value=%{y}<extra></extra>",
         "legendgroup": "Air-Conditioner (kWh)",
         "line": {
          "color": "#636efa",
          "dash": "solid"
         },
         "marker": {
          "symbol": "circle"
         },
         "mode": "lines",
         "name": "Air-Conditioner (kWh)",
         "orientation": "v",
         "showlegend": true,
         "type": "scatter",
         "x": [
          0,
          1,
          2,
          3,
          4,
          5,
          6,
          7,
          8,
          9,
          10,
          11,
          12,
          13,
          14,
          15,
          16,
          17,
          18,
          19,
          20,
          21,
          22,
          23
         ],
         "xaxis": "x",
         "y": [
          0.3195254015709299,
          0.3860757465489678,
          0.3411053504286575,
          0.3179532731987587,
          0.2694619197355619,
          0.3583576452266624,
          0.275034884505077,
          0.4567092003128319,
          0.4854651042004118,
          0.2533766075303111,
          0.4166900152330658,
          0.3115579679011618,
          0.3272178244375729,
          0.4702386553170644,
          0.1284144232791547,
          0.1348517198806162,
          0.1080873589761303,
          0.4330479382191752,
          0.4112627003799401,
          0.4480048592987277,
          0.4914473368931056,
          0.4196634256866894,
          0.2845917449011728,
          0.4122116705145822
         ],
         "yaxis": "y"
        },
        {
         "hovertemplate": "variable=Fridge (kWh)<br>Hour=%{x}<br>value=%{y}<extra></extra>",
         "legendgroup": "Fridge (kWh)",
         "line": {
          "color": "#EF553B",
          "dash": "solid"
         },
         "marker": {
          "symbol": "circle"
         },
         "mode": "lines",
         "name": "Fridge (kWh)",
         "orientation": "v",
         "showlegend": true,
         "type": "scatter",
         "x": [
          0,
          1,
          2,
          3,
          4,
          5,
          6,
          7,
          8,
          9,
          10,
          11,
          12,
          13,
          14,
          15,
          16,
          17,
          18,
          19,
          20,
          21,
          22,
          23
         ],
         "xaxis": "x",
         "y": [
          0.0677411638803399,
          0.1459881531991285,
          0.0715029931113569,
          0.1917003375574376,
          0.1282772482625107,
          0.1121992909985785,
          0.089683341815694,
          0.1661350534151325,
          0.1184225498324823,
          0.1352650923302973,
          0.0528184700654532,
          0.1426453245613815,
          0.1418143584083632,
          0.1425400995312135,
          0.1915622117771936,
          0.1522730448655225,
          0.1039261850860679,
          0.1155547930699012,
          0.1546446793890897,
          0.0590338207443904,
          0.1500150073168501,
          0.1505956804427239,
          0.0815573841610761,
          0.069338944648228
         ],
         "yaxis": "y"
        }
       ],
       "layout": {
        "legend": {
         "title": {
          "text": "variable"
         },
         "tracegroupgap": 0
        },
        "template": {
         "data": {
          "bar": [
           {
            "error_x": {
             "color": "#2a3f5f"
            },
            "error_y": {
             "color": "#2a3f5f"
            },
            "marker": {
             "line": {
              "color": "#E5ECF6",
              "width": 0.5
             },
             "pattern": {
              "fillmode": "overlay",
              "size": 10,
              "solidity": 0.2
             }
            },
            "type": "bar"
           }
          ],
          "barpolar": [
           {
            "marker": {
             "line": {
              "color": "#E5ECF6",
              "width": 0.5
             },
             "pattern": {
              "fillmode": "overlay",
              "size": 10,
              "solidity": 0.2
             }
            },
            "type": "barpolar"
           }
          ],
          "carpet": [
           {
            "aaxis": {
             "endlinecolor": "#2a3f5f",
             "gridcolor": "white",
             "linecolor": "white",
             "minorgridcolor": "white",
             "startlinecolor": "#2a3f5f"
            },
            "baxis": {
             "endlinecolor": "#2a3f5f",
             "gridcolor": "white",
             "linecolor": "white",
             "minorgridcolor": "white",
             "startlinecolor": "#2a3f5f"
            },
            "type": "carpet"
           }
          ],
          "choropleth": [
           {
            "colorbar": {
             "outlinewidth": 0,
             "ticks": ""
            },
            "type": "choropleth"
           }
          ],
          "contour": [
           {
            "colorbar": {
             "outlinewidth": 0,
             "ticks": ""
            },
            "colorscale": [
             [
              0,
              "#0d0887"
             ],
             [
              0.1111111111111111,
              "#46039f"
             ],
             [
              0.2222222222222222,
              "#7201a8"
             ],
             [
              0.3333333333333333,
              "#9c179e"
             ],
             [
              0.4444444444444444,
              "#bd3786"
             ],
             [
              0.5555555555555556,
              "#d8576b"
             ],
             [
              0.6666666666666666,
              "#ed7953"
             ],
             [
              0.7777777777777778,
              "#fb9f3a"
             ],
             [
              0.8888888888888888,
              "#fdca26"
             ],
             [
              1,
              "#f0f921"
             ]
            ],
            "type": "contour"
           }
          ],
          "contourcarpet": [
           {
            "colorbar": {
             "outlinewidth": 0,
             "ticks": ""
            },
            "type": "contourcarpet"
           }
          ],
          "heatmap": [
           {
            "colorbar": {
             "outlinewidth": 0,
             "ticks": ""
            },
            "colorscale": [
             [
              0,
              "#0d0887"
             ],
             [
              0.1111111111111111,
              "#46039f"
             ],
             [
              0.2222222222222222,
              "#7201a8"
             ],
             [
              0.3333333333333333,
              "#9c179e"
             ],
             [
              0.4444444444444444,
              "#bd3786"
             ],
             [
              0.5555555555555556,
              "#d8576b"
             ],
             [
              0.6666666666666666,
              "#ed7953"
             ],
             [
              0.7777777777777778,
              "#fb9f3a"
             ],
             [
              0.8888888888888888,
              "#fdca26"
             ],
             [
              1,
              "#f0f921"
             ]
            ],
            "type": "heatmap"
           }
          ],
          "heatmapgl": [
           {
            "colorbar": {
             "outlinewidth": 0,
             "ticks": ""
            },
            "colorscale": [
             [
              0,
              "#0d0887"
             ],
             [
              0.1111111111111111,
              "#46039f"
             ],
             [
              0.2222222222222222,
              "#7201a8"
             ],
             [
              0.3333333333333333,
              "#9c179e"
             ],
             [
              0.4444444444444444,
              "#bd3786"
             ],
             [
              0.5555555555555556,
              "#d8576b"
             ],
             [
              0.6666666666666666,
              "#ed7953"
             ],
             [
              0.7777777777777778,
              "#fb9f3a"
             ],
             [
              0.8888888888888888,
              "#fdca26"
             ],
             [
              1,
              "#f0f921"
             ]
            ],
            "type": "heatmapgl"
           }
          ],
          "histogram": [
           {
            "marker": {
             "pattern": {
              "fillmode": "overlay",
              "size": 10,
              "solidity": 0.2
             }
            },
            "type": "histogram"
           }
          ],
          "histogram2d": [
           {
            "colorbar": {
             "outlinewidth": 0,
             "ticks": ""
            },
            "colorscale": [
             [
              0,
              "#0d0887"
             ],
             [
              0.1111111111111111,
              "#46039f"
             ],
             [
              0.2222222222222222,
              "#7201a8"
             ],
             [
              0.3333333333333333,
              "#9c179e"
             ],
             [
              0.4444444444444444,
              "#bd3786"
             ],
             [
              0.5555555555555556,
              "#d8576b"
             ],
             [
              0.6666666666666666,
              "#ed7953"
             ],
             [
              0.7777777777777778,
              "#fb9f3a"
             ],
             [
              0.8888888888888888,
              "#fdca26"
             ],
             [
              1,
              "#f0f921"
             ]
            ],
            "type": "histogram2d"
           }
          ],
          "histogram2dcontour": [
           {
            "colorbar": {
             "outlinewidth": 0,
             "ticks": ""
            },
            "colorscale": [
             [
              0,
              "#0d0887"
             ],
             [
              0.1111111111111111,
              "#46039f"
             ],
             [
              0.2222222222222222,
              "#7201a8"
             ],
             [
              0.3333333333333333,
              "#9c179e"
             ],
             [
              0.4444444444444444,
              "#bd3786"
             ],
             [
              0.5555555555555556,
              "#d8576b"
             ],
             [
              0.6666666666666666,
              "#ed7953"
             ],
             [
              0.7777777777777778,
              "#fb9f3a"
             ],
             [
              0.8888888888888888,
              "#fdca26"
             ],
             [
              1,
              "#f0f921"
             ]
            ],
            "type": "histogram2dcontour"
           }
          ],
          "mesh3d": [
           {
            "colorbar": {
             "outlinewidth": 0,
             "ticks": ""
            },
            "type": "mesh3d"
           }
          ],
          "parcoords": [
           {
            "line": {
             "colorbar": {
              "outlinewidth": 0,
              "ticks": ""
             }
            },
            "type": "parcoords"
           }
          ],
          "pie": [
           {
            "automargin": true,
            "type": "pie"
           }
          ],
          "scatter": [
           {
            "fillpattern": {
             "fillmode": "overlay",
             "size": 10,
             "solidity": 0.2
            },
            "type": "scatter"
           }
          ],
          "scatter3d": [
           {
            "line": {
             "colorbar": {
              "outlinewidth": 0,
              "ticks": ""
             }
            },
            "marker": {
             "colorbar": {
              "outlinewidth": 0,
              "ticks": ""
             }
            },
            "type": "scatter3d"
           }
          ],
          "scattercarpet": [
           {
            "marker": {
             "colorbar": {
              "outlinewidth": 0,
              "ticks": ""
             }
            },
            "type": "scattercarpet"
           }
          ],
          "scattergeo": [
           {
            "marker": {
             "colorbar": {
              "outlinewidth": 0,
              "ticks": ""
             }
            },
            "type": "scattergeo"
           }
          ],
          "scattergl": [
           {
            "marker": {
             "colorbar": {
              "outlinewidth": 0,
              "ticks": ""
             }
            },
            "type": "scattergl"
           }
          ],
          "scattermapbox": [
           {
            "marker": {
             "colorbar": {
              "outlinewidth": 0,
              "ticks": ""
             }
            },
            "type": "scattermapbox"
           }
          ],
          "scatterpolar": [
           {
            "marker": {
             "colorbar": {
              "outlinewidth": 0,
              "ticks": ""
             }
            },
            "type": "scatterpolar"
           }
          ],
          "scatterpolargl": [
           {
            "marker": {
             "colorbar": {
              "outlinewidth": 0,
              "ticks": ""
             }
            },
            "type": "scatterpolargl"
           }
          ],
          "scatterternary": [
           {
            "marker": {
             "colorbar": {
              "outlinewidth": 0,
              "ticks": ""
             }
            },
            "type": "scatterternary"
           }
          ],
          "surface": [
           {
            "colorbar": {
             "outlinewidth": 0,
             "ticks": ""
            },
            "colorscale": [
             [
              0,
              "#0d0887"
             ],
             [
              0.1111111111111111,
              "#46039f"
             ],
             [
              0.2222222222222222,
              "#7201a8"
             ],
             [
              0.3333333333333333,
              "#9c179e"
             ],
             [
              0.4444444444444444,
              "#bd3786"
             ],
             [
              0.5555555555555556,
              "#d8576b"
             ],
             [
              0.6666666666666666,
              "#ed7953"
             ],
             [
              0.7777777777777778,
              "#fb9f3a"
             ],
             [
              0.8888888888888888,
              "#fdca26"
             ],
             [
              1,
              "#f0f921"
             ]
            ],
            "type": "surface"
           }
          ],
          "table": [
           {
            "cells": {
             "fill": {
              "color": "#EBF0F8"
             },
             "line": {
              "color": "white"
             }
            },
            "header": {
             "fill": {
              "color": "#C8D4E3"
             },
             "line": {
              "color": "white"
             }
            },
            "type": "table"
           }
          ]
         },
         "layout": {
          "annotationdefaults": {
           "arrowcolor": "#2a3f5f",
           "arrowhead": 0,
           "arrowwidth": 1
          },
          "autotypenumbers": "strict",
          "coloraxis": {
           "colorbar": {
            "outlinewidth": 0,
            "ticks": ""
           }
          },
          "colorscale": {
           "diverging": [
            [
             0,
             "#8e0152"
            ],
            [
             0.1,
             "#c51b7d"
            ],
            [
             0.2,
             "#de77ae"
            ],
            [
             0.3,
             "#f1b6da"
            ],
            [
             0.4,
             "#fde0ef"
            ],
            [
             0.5,
             "#f7f7f7"
            ],
            [
             0.6,
             "#e6f5d0"
            ],
            [
             0.7,
             "#b8e186"
            ],
            [
             0.8,
             "#7fbc41"
            ],
            [
             0.9,
             "#4d9221"
            ],
            [
             1,
             "#276419"
            ]
           ],
           "sequential": [
            [
             0,
             "#0d0887"
            ],
            [
             0.1111111111111111,
             "#46039f"
            ],
            [
             0.2222222222222222,
             "#7201a8"
            ],
            [
             0.3333333333333333,
             "#9c179e"
            ],
            [
             0.4444444444444444,
             "#bd3786"
            ],
            [
             0.5555555555555556,
             "#d8576b"
            ],
            [
             0.6666666666666666,
             "#ed7953"
            ],
            [
             0.7777777777777778,
             "#fb9f3a"
            ],
            [
             0.8888888888888888,
             "#fdca26"
            ],
            [
             1,
             "#f0f921"
            ]
           ],
           "sequentialminus": [
            [
             0,
             "#0d0887"
            ],
            [
             0.1111111111111111,
             "#46039f"
            ],
            [
             0.2222222222222222,
             "#7201a8"
            ],
            [
             0.3333333333333333,
             "#9c179e"
            ],
            [
             0.4444444444444444,
             "#bd3786"
            ],
            [
             0.5555555555555556,
             "#d8576b"
            ],
            [
             0.6666666666666666,
             "#ed7953"
            ],
            [
             0.7777777777777778,
             "#fb9f3a"
            ],
            [
             0.8888888888888888,
             "#fdca26"
            ],
            [
             1,
             "#f0f921"
            ]
           ]
          },
          "colorway": [
           "#636efa",
           "#EF553B",
           "#00cc96",
           "#ab63fa",
           "#FFA15A",
           "#19d3f3",
           "#FF6692",
           "#B6E880",
           "#FF97FF",
           "#FECB52"
          ],
          "font": {
           "color": "#2a3f5f"
          },
          "geo": {
           "bgcolor": "white",
           "lakecolor": "white",
           "landcolor": "#E5ECF6",
           "showlakes": true,
           "showland": true,
           "subunitcolor": "white"
          },
          "hoverlabel": {
           "align": "left"
          },
          "hovermode": "closest",
          "mapbox": {
           "style": "light"
          },
          "paper_bgcolor": "white",
          "plot_bgcolor": "#E5ECF6",
          "polar": {
           "angularaxis": {
            "gridcolor": "white",
            "linecolor": "white",
            "ticks": ""
           },
           "bgcolor": "#E5ECF6",
           "radialaxis": {
            "gridcolor": "white",
            "linecolor": "white",
            "ticks": ""
           }
          },
          "scene": {
           "xaxis": {
            "backgroundcolor": "#E5ECF6",
            "gridcolor": "white",
            "gridwidth": 2,
            "linecolor": "white",
            "showbackground": true,
            "ticks": "",
            "zerolinecolor": "white"
           },
           "yaxis": {
            "backgroundcolor": "#E5ECF6",
            "gridcolor": "white",
            "gridwidth": 2,
            "linecolor": "white",
            "showbackground": true,
            "ticks": "",
            "zerolinecolor": "white"
           },
           "zaxis": {
            "backgroundcolor": "#E5ECF6",
            "gridcolor": "white",
            "gridwidth": 2,
            "linecolor": "white",
            "showbackground": true,
            "ticks": "",
            "zerolinecolor": "white"
           }
          },
          "shapedefaults": {
           "line": {
            "color": "#2a3f5f"
           }
          },
          "ternary": {
           "aaxis": {
            "gridcolor": "white",
            "linecolor": "white",
            "ticks": ""
           },
           "baxis": {
            "gridcolor": "white",
            "linecolor": "white",
            "ticks": ""
           },
           "bgcolor": "#E5ECF6",
           "caxis": {
            "gridcolor": "white",
            "linecolor": "white",
            "ticks": ""
           }
          },
          "title": {
           "x": 0.05
          },
          "xaxis": {
           "automargin": true,
           "gridcolor": "white",
           "linecolor": "white",
           "ticks": "",
           "title": {
            "standoff": 15
           },
           "zerolinecolor": "white",
           "zerolinewidth": 2
          },
          "yaxis": {
           "automargin": true,
           "gridcolor": "white",
           "linecolor": "white",
           "ticks": "",
           "title": {
            "standoff": 15
           },
           "zerolinecolor": "white",
           "zerolinewidth": 2
          }
         }
        },
        "title": {
         "text": "Consumption over Time (Day 1)"
        },
        "xaxis": {
         "anchor": "y",
         "domain": [
          0,
          1
         ],
         "title": {
          "text": "Hour"
         }
        },
        "yaxis": {
         "anchor": "x",
         "domain": [
          0,
          1
         ],
         "title": {
          "text": "value"
         }
        }
       }
      }
     },
     "metadata": {},
     "output_type": "display_data"
    }
   ],
   "source": [
    "import pandas as pd\n",
    "import plotly.express as px\n",
    "\n",
    "df = pd.read_csv(\"dummy.csv\")\n",
    "df['Date'] = pd.to_datetime(df.Date, format='%Y-%m-%d %H:%M:%S')\n",
    "\n",
    "# Melt the DataFrame to pivot the consumption data\n",
    "df_melt = pd.melt(df.reset_index(), id_vars='Date', value_vars=['Air-Conditioner (kWh)', 'Fridge (kWh)'])\n",
    "\n",
    "# Extract the hour from the Date column\n",
    "df_melt['Hour'] = df_melt['Date'].dt.hour\n",
    "\n",
    "#Rename column\n",
    "df_melt.rename(columns={'value': 'Energy (kWh)', 'variable': 'Appliance'}, inplace=True)\n",
    "\n",
    "# Plot the line chart\n",
    "fig = px.line(df_melt, x='Hour', y='Energy (kWh)', color='Appliance', title='Consumption over Time (Day 1)')\n",
    "\n",
    "# Show the plot\n",
    "fig.show()"
   ]
  },
  {
   "cell_type": "code",
   "execution_count": 3,
   "metadata": {},
   "outputs": [],
   "source": [
    "# Create a dictionary with appliance data\n",
    "appliance_data = {\n",
    "    'Appliance ID': [1, 2, 3, 4],\n",
    "    'Appliance Name': ['Fridge', 'Air-conditioner', 'Air-conditioner', 'Fridge'],\n",
    "    'Description': ['Standard Fridge', '1HP Air-conditioner', '2HP Air-conditioner', 'Mini Fridge'],\n",
    "    'Input Measurement (kWh)': [0.2, 0.5, 1.0, 0.1],\n",
    "    'Output Measurement (°C)': [-5, -10, -15, -3]\n",
    "}\n",
    "\n",
    "appliance_df = pd.DataFrame(appliance_data)\n",
    "\n",
    "appliance_df.to_csv(\"appliances.csv\")"
   ]
  },
  {
   "cell_type": "code",
   "execution_count": 4,
   "metadata": {},
   "outputs": [],
   "source": [
    "# Create a dictionary with appliance usage data\n",
    "appliance_usage_data = {\n",
    "    'Home ID': [1, 1, 1, 2, 2, 3, 3, 3, 4, 4],\n",
    "    'Appliance ID': [1, 2, 3, 1, 4, 2, 3, 4, 1, 2],\n",
    "    'Current Energy Consumption (kWh)': [0.2, 0.5, 1.0, 0.1, 0.2, 0.6, 1.1, 0.3, 0.2, 0.4],\n",
    "    'Current Output (°C)': [-5, -10, -15, -3, -5, -11, -16, -4, -5, -9]\n",
    "}\n",
    "\n",
    "appliance_usage_df = pd.DataFrame(appliance_usage_data)\n",
    "\n",
    "appliance_usage_df.to_csv(\"usage.csv\")"
   ]
  },
  {
   "cell_type": "code",
   "execution_count": 5,
   "metadata": {},
   "outputs": [
    {
     "data": {
      "text/html": [
       "<div>\n",
       "<style scoped>\n",
       "    .dataframe tbody tr th:only-of-type {\n",
       "        vertical-align: middle;\n",
       "    }\n",
       "\n",
       "    .dataframe tbody tr th {\n",
       "        vertical-align: top;\n",
       "    }\n",
       "\n",
       "    .dataframe thead th {\n",
       "        text-align: right;\n",
       "    }\n",
       "</style>\n",
       "<table border=\"1\" class=\"dataframe\">\n",
       "  <thead>\n",
       "    <tr style=\"text-align: right;\">\n",
       "      <th></th>\n",
       "      <th>Home ID</th>\n",
       "      <th>Appliance ID</th>\n",
       "      <th>Current Energy Consumption (kWh)</th>\n",
       "      <th>Current Output (°C)</th>\n",
       "    </tr>\n",
       "  </thead>\n",
       "  <tbody>\n",
       "    <tr>\n",
       "      <th>0</th>\n",
       "      <td>1</td>\n",
       "      <td>1</td>\n",
       "      <td>0.2</td>\n",
       "      <td>-5</td>\n",
       "    </tr>\n",
       "    <tr>\n",
       "      <th>1</th>\n",
       "      <td>1</td>\n",
       "      <td>2</td>\n",
       "      <td>0.5</td>\n",
       "      <td>-10</td>\n",
       "    </tr>\n",
       "    <tr>\n",
       "      <th>2</th>\n",
       "      <td>1</td>\n",
       "      <td>3</td>\n",
       "      <td>1.0</td>\n",
       "      <td>-15</td>\n",
       "    </tr>\n",
       "    <tr>\n",
       "      <th>3</th>\n",
       "      <td>2</td>\n",
       "      <td>1</td>\n",
       "      <td>0.1</td>\n",
       "      <td>-3</td>\n",
       "    </tr>\n",
       "    <tr>\n",
       "      <th>4</th>\n",
       "      <td>2</td>\n",
       "      <td>4</td>\n",
       "      <td>0.2</td>\n",
       "      <td>-5</td>\n",
       "    </tr>\n",
       "    <tr>\n",
       "      <th>5</th>\n",
       "      <td>3</td>\n",
       "      <td>2</td>\n",
       "      <td>0.6</td>\n",
       "      <td>-11</td>\n",
       "    </tr>\n",
       "    <tr>\n",
       "      <th>6</th>\n",
       "      <td>3</td>\n",
       "      <td>3</td>\n",
       "      <td>1.1</td>\n",
       "      <td>-16</td>\n",
       "    </tr>\n",
       "    <tr>\n",
       "      <th>7</th>\n",
       "      <td>3</td>\n",
       "      <td>4</td>\n",
       "      <td>0.3</td>\n",
       "      <td>-4</td>\n",
       "    </tr>\n",
       "    <tr>\n",
       "      <th>8</th>\n",
       "      <td>4</td>\n",
       "      <td>1</td>\n",
       "      <td>0.2</td>\n",
       "      <td>-5</td>\n",
       "    </tr>\n",
       "    <tr>\n",
       "      <th>9</th>\n",
       "      <td>4</td>\n",
       "      <td>2</td>\n",
       "      <td>0.4</td>\n",
       "      <td>-9</td>\n",
       "    </tr>\n",
       "  </tbody>\n",
       "</table>\n",
       "</div>"
      ],
      "text/plain": [
       "   Home ID  Appliance ID  Current Energy Consumption (kWh)  \\\n",
       "0        1             1                               0.2   \n",
       "1        1             2                               0.5   \n",
       "2        1             3                               1.0   \n",
       "3        2             1                               0.1   \n",
       "4        2             4                               0.2   \n",
       "5        3             2                               0.6   \n",
       "6        3             3                               1.1   \n",
       "7        3             4                               0.3   \n",
       "8        4             1                               0.2   \n",
       "9        4             2                               0.4   \n",
       "\n",
       "   Current Output (°C)  \n",
       "0                   -5  \n",
       "1                  -10  \n",
       "2                  -15  \n",
       "3                   -3  \n",
       "4                   -5  \n",
       "5                  -11  \n",
       "6                  -16  \n",
       "7                   -4  \n",
       "8                   -5  \n",
       "9                   -9  "
      ]
     },
     "execution_count": 5,
     "metadata": {},
     "output_type": "execute_result"
    }
   ],
   "source": [
    "appliance_usage_df"
   ]
  },
  {
   "cell_type": "code",
   "execution_count": 6,
   "metadata": {},
   "outputs": [
    {
     "data": {
      "text/html": [
       "<div>\n",
       "<style scoped>\n",
       "    .dataframe tbody tr th:only-of-type {\n",
       "        vertical-align: middle;\n",
       "    }\n",
       "\n",
       "    .dataframe tbody tr th {\n",
       "        vertical-align: top;\n",
       "    }\n",
       "\n",
       "    .dataframe thead th {\n",
       "        text-align: right;\n",
       "    }\n",
       "</style>\n",
       "<table border=\"1\" class=\"dataframe\">\n",
       "  <thead>\n",
       "    <tr style=\"text-align: right;\">\n",
       "      <th></th>\n",
       "      <th>Appliance ID</th>\n",
       "      <th>Appliance Name</th>\n",
       "      <th>Description</th>\n",
       "      <th>Input Measurement (kWh)</th>\n",
       "      <th>Output Measurement (°C)</th>\n",
       "    </tr>\n",
       "  </thead>\n",
       "  <tbody>\n",
       "    <tr>\n",
       "      <th>0</th>\n",
       "      <td>1</td>\n",
       "      <td>Fridge</td>\n",
       "      <td>Standard Fridge</td>\n",
       "      <td>0.2</td>\n",
       "      <td>-5</td>\n",
       "    </tr>\n",
       "    <tr>\n",
       "      <th>1</th>\n",
       "      <td>2</td>\n",
       "      <td>Air-conditioner</td>\n",
       "      <td>1HP Air-conditioner</td>\n",
       "      <td>0.5</td>\n",
       "      <td>-10</td>\n",
       "    </tr>\n",
       "    <tr>\n",
       "      <th>2</th>\n",
       "      <td>3</td>\n",
       "      <td>Air-conditioner</td>\n",
       "      <td>2HP Air-conditioner</td>\n",
       "      <td>1.0</td>\n",
       "      <td>-15</td>\n",
       "    </tr>\n",
       "    <tr>\n",
       "      <th>3</th>\n",
       "      <td>4</td>\n",
       "      <td>Fridge</td>\n",
       "      <td>Mini Fridge</td>\n",
       "      <td>0.1</td>\n",
       "      <td>-3</td>\n",
       "    </tr>\n",
       "  </tbody>\n",
       "</table>\n",
       "</div>"
      ],
      "text/plain": [
       "   Appliance ID   Appliance Name          Description  \\\n",
       "0             1           Fridge      Standard Fridge   \n",
       "1             2  Air-conditioner  1HP Air-conditioner   \n",
       "2             3  Air-conditioner  2HP Air-conditioner   \n",
       "3             4           Fridge          Mini Fridge   \n",
       "\n",
       "   Input Measurement (kWh)  Output Measurement (°C)  \n",
       "0                      0.2                       -5  \n",
       "1                      0.5                      -10  \n",
       "2                      1.0                      -15  \n",
       "3                      0.1                       -3  "
      ]
     },
     "execution_count": 6,
     "metadata": {},
     "output_type": "execute_result"
    }
   ],
   "source": [
    "appliance_df"
   ]
  },
  {
   "cell_type": "code",
   "execution_count": 11,
   "metadata": {},
   "outputs": [],
   "source": [
    "import sqlite3\n",
    "\n",
    "# Connect to the SQLite database\n",
    "conn = sqlite3.connect('../Data.db')\n",
    "cursor = conn.cursor()\n",
    "\n",
    "# Create the Homes table\n",
    "cursor.execute('''\n",
    "    CREATE TABLE IF NOT EXISTS Homes (\n",
    "        HomeID INTEGER PRIMARY KEY,\n",
    "        HomeName TEXT,\n",
    "        Address TEXT,\n",
    "        Others TEXT\n",
    "    )\n",
    "''')\n",
    "\n",
    "# Create the Appliances table\n",
    "cursor.execute('''\n",
    "    CREATE TABLE IF NOT EXISTS Appliances (\n",
    "        ApplianceID INTEGER,\n",
    "        HomeID INTEGER,\n",
    "        ApplianceName TEXT,\n",
    "        ApplianceType TEXT,\n",
    "        StartValue REAL,\n",
    "        StopValue REAL,\n",
    "        PRIMARY KEY (HomeID, ApplianceName, ApplianceType)\n",
    "    )\n",
    "''')\n",
    "\n",
    "\n",
    "# Create the EnergyUsage table\n",
    "cursor.execute('''\n",
    "    CREATE TABLE IF NOT EXISTS EnergyUsage (\n",
    "        EnergyUsageID INTEGER PRIMARY KEY,\n",
    "        HomeID INTEGER,\n",
    "        ApplianceID INTEGER,\n",
    "        DateTime TEXT,\n",
    "        EnergyConsumed REAL,\n",
    "        EnergyProduced REAL,\n",
    "        CurrentOutput REAL\n",
    "    )\n",
    "''')\n",
    "\n",
    "# Commit the changes and close the connection\n",
    "conn.commit()\n",
    "conn.close()"
   ]
  },
  {
   "cell_type": "code",
   "execution_count": 1,
   "metadata": {},
   "outputs": [
    {
     "name": "stdout",
     "output_type": "stream",
     "text": [
      "Temperature change: 23.90 K\n"
     ]
    }
   ],
   "source": [
    "def calculate_temperature_change(power_consumption_kwh, mass_kg, specific_heat_capacity_j_per_kg_k):\n",
    "    # Convert power consumption to joules\n",
    "    power_consumption_joules = power_consumption_kwh * 3600000\n",
    "    \n",
    "    # Calculate temperature change\n",
    "    temperature_change = power_consumption_joules / (mass_kg * specific_heat_capacity_j_per_kg_k)\n",
    "    \n",
    "    return temperature_change\n",
    "\n",
    "# Example usage\n",
    "power_consumption_kwh = 0.664\n",
    "mass_kg = 50\n",
    "specific_heat_capacity_j_per_kg_k = 2000\n",
    "\n",
    "temperature_change = calculate_temperature_change(power_consumption_kwh, mass_kg, specific_heat_capacity_j_per_kg_k)\n",
    "print(f\"Temperature change: {temperature_change:.2f} K\")"
   ]
  },
  {
   "cell_type": "code",
   "execution_count": null,
   "metadata": {},
   "outputs": [],
   "source": [
    "INSERT INTO Homes (HomeID, HomeName, Address, Others) VALUES\n",
    "(1234, 'Home 1', '123 Main Street', ''),\n",
    "(6475, 'Home 2', '456 Elm Street', '');"
   ]
  },
  {
   "cell_type": "code",
   "execution_count": null,
   "metadata": {},
   "outputs": [],
   "source": [
    "INSERT INTO Appliances (ApplianceID, HomeID, ApplianceName, ApplianceType, StartValue, StopValue) VALUES\n",
    "(1, 1234, 'Hisense Deep Freezer', 'Freezer', 5, -15),\n",
    "(2, 1234, 'Scanfrost Refrigerator', 'Refrigerator', 0, -10),\n",
    "(3, 1234, 'LG Air Conditioner', 'Air Conditioner', 10, -25),\n",
    "(1, 6475, 'Hisense Deep Freezer', 'Freezer', 5, -15),\n",
    "(2, 6457, 'Scanfrost Refrigerator', 'Refrigerator', 0, -10);"
   ]
  },
  {
   "cell_type": "code",
   "execution_count": 25,
   "metadata": {},
   "outputs": [],
   "source": [
    "import random\n",
    "import sqlite3\n",
    "from datetime import datetime, timedelta\n",
    "\n",
    "# Connect to the database\n",
    "conn = sqlite3.connect('../Data.db')\n",
    "cursor = conn.cursor()\n",
    "\n",
    "# Define the appliances and their energy usage ranges\n",
    "appliances = {\n",
    "    1: {'name': 'Freezer', 'energy_consumed_range': (0.5, 0.8), 'current_output_range': (5, -15)},\n",
    "    2: {'name': 'Refrigerator', 'energy_consumed_range': (0.5, 0.8), 'current_output_range': (0, -10)},\n",
    "    3: {'name': 'Air Conditioner', 'energy_consumed_range': (0.5, 0.8), 'current_output_range': (0, -10)}\n",
    "}\n",
    "\n",
    "# Define the start and end dates\n",
    "start_date = datetime.now() - timedelta(days=2)\n",
    "end_date = datetime.now()\n",
    "\n",
    "# Generate random energy usage data for each hour\n",
    "for hour in range(72):  # 3 days worth of data\n",
    "    date_time = start_date + timedelta(hours=hour)\n",
    "    total_energy_consumed = 0\n",
    "    for appliance_id, appliance in appliances.items():\n",
    "        if appliance['name'] == 'AC':\n",
    "            energy_consumed_btu = random.uniform(*appliance['energy_consumed_range'])\n",
    "            energy_consumed_kwh = energy_consumed_btu / 3412.14  # Convert Btu/h to kWh\n",
    "        else:\n",
    "            energy_consumed_kwh = random.uniform(*appliance['energy_consumed_range'])\n",
    "        current_output = random.uniform(*appliance['current_output_range'])\n",
    "        total_energy_consumed += energy_consumed_kwh\n",
    "        \n",
    "        # Insert the data into the EnergyUsage table\n",
    "        cursor.execute('''\n",
    "            INSERT INTO EnergyUsage (HomeID, ApplianceID, DateTime, EnergyConsumed, EnergyProduced, CurrentOutput)\n",
    "            VALUES (?, ?, ?, ?, ?, ?)\n",
    "        ''', (6475, appliance_id, date_time, energy_consumed_kwh, total_energy_consumed, current_output))\n",
    "\n",
    "# Commit the changes and close the connection\n",
    "conn.commit()\n",
    "conn.close()"
   ]
  },
  {
   "cell_type": "code",
   "execution_count": 23,
   "metadata": {},
   "outputs": [
    {
     "name": "stdout",
     "output_type": "stream",
     "text": [
      "{'total_energy_produced': 237.10302390764954, 'current_energy_produced': 3.5756073356422866, 'total_energy_consumed': 328.52972526324317, 'current_energy_consumed': 4.76610828305291, 'num_appliances': 3, 'df_plot':      Day  Energy (kWh)               Appliance\n",
      "0      6      0.550196    Hisense Deep Freezer\n",
      "1      6      1.321775  Scanfrost Refrigerator\n",
      "2      6      4.876271      LG Air Conditioner\n",
      "3      6      0.669026    Hisense Deep Freezer\n",
      "4      6      1.340689  Scanfrost Refrigerator\n",
      "..   ...           ...                     ...\n",
      "139    8      1.400893  Scanfrost Refrigerator\n",
      "140    8      5.115996      LG Air Conditioner\n",
      "141    8      0.689116    Hisense Deep Freezer\n",
      "142    8      1.190501  Scanfrost Refrigerator\n",
      "143    8      4.766108      LG Air Conditioner\n",
      "\n",
      "[144 rows x 3 columns], 'x_axis': 'Day'}\n"
     ]
    }
   ],
   "source": [
    "import pandas as pd\n",
    "\n",
    "conn = sqlite3.connect(\"../Data.db\") # db - database\n",
    "cursor = conn.cursor() # Cursor object\n",
    "\n",
    "def get_energy_data(home_id, filter_by):\n",
    "    \"\"\"\n",
    "        This function takes three arguments:\n",
    "            home_id: the ID of the home to retrieve data for\n",
    "            filter_by: the filter to apply to the data (today, this month, or all time)\n",
    "        \n",
    "        The function returns a dictionary containing the following data:\n",
    "            total_energy_produced: the total energy produced for the selected filter\n",
    "            current_energy_produced: the current energy produced (last recorded observation)\n",
    "            total_energy_consumed: the total energy consumed for the selected filter\n",
    "            current_energy_consumed: the current energy consumed (last recorded observation)\n",
    "            num_appliances: the number of appliances for the selected filter\n",
    "            df_plot: a pandas DataFrame for plotting appliance consumption\n",
    "    \"\"\"\n",
    "    \n",
    "    # Filter by date\n",
    "    if filter_by == 'today':\n",
    "        start_date = datetime.today().replace(hour=0, minute=0, second=0, microsecond=0)\n",
    "        cursor.execute('''\n",
    "            SELECT * FROM EnergyUsage\n",
    "            WHERE HomeID = ? AND DateTime >= ?\n",
    "        ''', (home_id, start_date))\n",
    "    elif filter_by == 'this_month':\n",
    "        start_date = datetime.today().replace(day=1, hour=0, minute=0, second=0, microsecond=0)\n",
    "        cursor.execute('''\n",
    "            SELECT * FROM EnergyUsage\n",
    "            WHERE HomeID = ? AND DateTime >= ?\n",
    "        ''', (home_id, start_date))\n",
    "    elif filter_by == 'all_time':\n",
    "        cursor.execute('''\n",
    "            SELECT * FROM EnergyUsage\n",
    "            WHERE HomeID = ?\n",
    "        ''', (home_id,))\n",
    "\n",
    "    energy_data = cursor.fetchall()\n",
    "\n",
    "    # Calculate totals and currents\n",
    "    total_energy_produced = sum(row[4] for row in energy_data)\n",
    "    current_energy_produced = energy_data[-1][4] if energy_data else 0\n",
    "    total_energy_consumed = sum(row[5] for row in energy_data)\n",
    "    current_energy_consumed = energy_data[-1][5] if energy_data else 0\n",
    "    num_appliances = len(set(row[2] for row in energy_data))\n",
    "\n",
    "    # Create dataframe for plotting\n",
    "    df = pd.DataFrame(energy_data, columns=['EnergyUsageID', 'HomeID', 'ApplianceID', 'DateTime', 'EnergyProduced', 'EnergyConsumed', 'CurrentOutput'])\n",
    "    df['DateTime'] = pd.to_datetime(df['DateTime'])\n",
    "    \n",
    "    # Map ApplianceID to Appliance names\n",
    "    appliance_map = {1: 'Hisense Deep Freezer', 2: 'Scanfrost Refrigerator', 3: 'LG Air Conditioner'}\n",
    "    df['Appliance'] = df['ApplianceID'].map(appliance_map)\n",
    "\n",
    "    # Rename columns for consistency\n",
    "    df.rename(columns={'EnergyConsumed': 'Energy (kWh)'}, inplace=True)\n",
    "\n",
    "    if filter_by == 'today':\n",
    "        df['Hour'] = df['DateTime'].dt.hour\n",
    "        df_plot = df[['Hour', 'Energy (kWh)', 'Appliance']]\n",
    "        x_axis = 'Hour'\n",
    "    elif filter_by in ['this_month', 'all_time']:\n",
    "        df['Day'] = df['DateTime'].dt.day\n",
    "        df_plot = df[['Day', 'Energy (kWh)', 'Appliance']]\n",
    "        x_axis = 'Day'\n",
    "\n",
    "    return {\n",
    "        'total_energy_produced': total_energy_produced,\n",
    "        'current_energy_produced': current_energy_produced,\n",
    "        'total_energy_consumed': total_energy_consumed,\n",
    "        'current_energy_consumed': current_energy_consumed,\n",
    "        'num_appliances': num_appliances,\n",
    "        'df_plot': df_plot,\n",
    "        'x_axis': x_axis\n",
    "    }\n",
    "\n",
    "\n",
    "data = get_energy_data(home_id=1234, filter_by='this_month')\n",
    "print(data)"
   ]
  },
  {
   "cell_type": "code",
   "execution_count": 20,
   "metadata": {},
   "outputs": [
    {
     "name": "stdout",
     "output_type": "stream",
     "text": [
      "{'Appliance Name': 'Hisense Deep Freezer', 'Appliance Description': 'Freezer', 'Current Energy Consumption (kWh)': 0.6891161148361299, 'Current Output (°C)': -0.9010618740608312}\n",
      "{'Appliance Name': 'Scarfrost Refrigerator', 'Appliance Description': 'Refrigerator', 'Current Energy Consumption (kWh)': 0.5013848325744937, 'Current Output (°C)': -2.08205398332085}\n",
      "{'Appliance Name': 'LG Air Conditioner', 'Appliance Description': 'Air Conditioner', 'Current Energy Consumption (kWh)': 3.5756073356422866, 'Current Output (°C)': -22.808593800668163}\n"
     ]
    }
   ],
   "source": [
    "import sqlite3\n",
    "\n",
    "def get_appliances(home_id):\n",
    "    conn = sqlite3.connect('../Data.db')\n",
    "    cursor = conn.cursor()\n",
    "\n",
    "    # Get the latest energy usage data for each appliance\n",
    "    cursor.execute('''\n",
    "        SELECT \n",
    "            A.ApplianceName, \n",
    "            A.ApplianceType, \n",
    "            EU.EnergyConsumed, \n",
    "            EU.CurrentOutput\n",
    "        FROM \n",
    "            Appliances A \n",
    "        JOIN \n",
    "            EnergyUsage EU ON A.ApplianceID = EU.ApplianceID\n",
    "        WHERE \n",
    "            EU.HomeID = ? \n",
    "        ORDER BY \n",
    "            EU.DateTime DESC\n",
    "    ''', (home_id,))\n",
    "\n",
    "    appliances = cursor.fetchall()\n",
    "\n",
    "    # Group the results by appliance and get the latest values\n",
    "    appliance_data = {}\n",
    "    for appliance in appliances:\n",
    "        name, description, energy_consumed, current_output = appliance\n",
    "        if name not in appliance_data:\n",
    "            appliance_data[name] = {\n",
    "                'Appliance Name': name,\n",
    "                'Appliance Description': description,\n",
    "                'Current Energy Consumption (kWh)': energy_consumed,\n",
    "                'Current Output (°C)': current_output\n",
    "            }\n",
    "\n",
    "    return list(appliance_data.values())\n",
    "\n",
    "# Example usage:\n",
    "home_id = 1234\n",
    "appliances = get_appliances(home_id)\n",
    "for appliance in appliances:\n",
    "    print(appliance)"
   ]
  },
  {
   "cell_type": "code",
   "execution_count": 1,
   "metadata": {},
   "outputs": [
    {
     "name": "stdout",
     "output_type": "stream",
     "text": [
      "2024-08-24 22:41:45.727268\n"
     ]
    }
   ],
   "source": [
    "from datetime import datetime\n",
    "\n",
    "print(datetime.now())"
   ]
  },
  {
   "cell_type": "code",
   "execution_count": 7,
   "metadata": {},
   "outputs": [
    {
     "data": {
      "text/plain": [
       "False"
      ]
     },
     "execution_count": 7,
     "metadata": {},
     "output_type": "execute_result"
    }
   ],
   "source": [
    "False and True"
   ]
  },
  {
   "cell_type": "code",
   "execution_count": 8,
   "metadata": {},
   "outputs": [
    {
     "name": "stdout",
     "output_type": "stream",
     "text": [
      "Collecting email-validator\n",
      "  Obtaining dependency information for email-validator from https://files.pythonhosted.org/packages/d7/ee/bf0adb559ad3c786f12bcbc9296b3f5675f529199bef03e2df281fa1fadb/email_validator-2.2.0-py3-none-any.whl.metadata\n",
      "  Downloading email_validator-2.2.0-py3-none-any.whl.metadata (25 kB)\n",
      "Collecting dnspython>=2.0.0 (from email-validator)\n",
      "  Obtaining dependency information for dnspython>=2.0.0 from https://files.pythonhosted.org/packages/87/a1/8c5287991ddb8d3e4662f71356d9656d91ab3a36618c3dd11b280df0d255/dnspython-2.6.1-py3-none-any.whl.metadata\n",
      "  Downloading dnspython-2.6.1-py3-none-any.whl.metadata (5.8 kB)\n",
      "Requirement already satisfied: idna>=2.0.0 in /Users/mac/Documents/SHEMS-DEMO/venv/lib/python3.8/site-packages (from email-validator) (3.7)\n",
      "Downloading email_validator-2.2.0-py3-none-any.whl (33 kB)\n",
      "Downloading dnspython-2.6.1-py3-none-any.whl (307 kB)\n",
      "\u001b[2K   \u001b[90m━━━━━━━━━━━━━━━━━━━━━━━━━━━━━━━━━━━━━━━\u001b[0m \u001b[32m307.7/307.7 kB\u001b[0m \u001b[31m161.1 kB/s\u001b[0m eta \u001b[36m0:00:00\u001b[0m00:01\u001b[0m00:01\u001b[0m\n",
      "\u001b[?25hInstalling collected packages: dnspython, email-validator\n",
      "Successfully installed dnspython-2.6.1 email-validator-2.2.0\n",
      "\n",
      "\u001b[1m[\u001b[0m\u001b[34;49mnotice\u001b[0m\u001b[1;39;49m]\u001b[0m\u001b[39;49m A new release of pip is available: \u001b[0m\u001b[31;49m23.2.1\u001b[0m\u001b[39;49m -> \u001b[0m\u001b[32;49m24.2\u001b[0m\n",
      "\u001b[1m[\u001b[0m\u001b[34;49mnotice\u001b[0m\u001b[1;39;49m]\u001b[0m\u001b[39;49m To update, run: \u001b[0m\u001b[32;49mpip install --upgrade pip\u001b[0m\n",
      "Note: you may need to restart the kernel to use updated packages.\n"
     ]
    }
   ],
   "source": [
    "%pip install email-validator"
   ]
  },
  {
   "cell_type": "code",
   "execution_count": 7,
   "metadata": {},
   "outputs": [
    {
     "name": "stdout",
     "output_type": "stream",
     "text": [
      "There must be something before the @-sign.\n"
     ]
    }
   ],
   "source": [
    "from email_validator import validate_email, EmailNotValidError\n",
    "\n",
    "email = \"\"\n",
    "\n",
    "try:\n",
    "    emailinfo = validate_email(email, check_deliverability=False)\n",
    "    email = emailinfo.normalized\n",
    "    print(email)\n",
    "except EmailNotValidError as e:\n",
    "  print(str(e))"
   ]
  },
  {
   "cell_type": "code",
   "execution_count": 9,
   "metadata": {},
   "outputs": [
    {
     "name": "stdout",
     "output_type": "stream",
     "text": [
      "Email sent successfully!\n"
     ]
    }
   ],
   "source": [
    "import smtplib\n",
    "from email.mime.text import MIMEText\n",
    "\n",
    "# Define the email details\n",
    "subject = \"Test Email\"\n",
    "body = \"This is a test email sent from Python.\"\n",
    "from_email = \"odendavid0@gmail.com\"\n",
    "to_email = \"davidodenikpi@gmail.com\"\n",
    "password = \"hhpr lmml ulhk qytb\"\n",
    "\n",
    "# Create a text message\n",
    "msg = MIMEText(body)\n",
    "msg['Subject'] = subject\n",
    "msg['From'] = from_email\n",
    "msg['To'] = to_email\n",
    "\n",
    "# Send the email using SMTP\n",
    "server = smtplib.SMTP('smtp.gmail.com', 587)\n",
    "server.starttls()\n",
    "server.login(from_email, password)\n",
    "server.sendmail(from_email, to_email, msg.as_string())\n",
    "server.quit()\n",
    "\n",
    "print(\"Email sent successfully!\")"
   ]
  },
  {
   "cell_type": "code",
   "execution_count": 16,
   "metadata": {},
   "outputs": [
    {
     "name": "stdout",
     "output_type": "stream",
     "text": [
      "Email sent successfully!\n"
     ]
    }
   ],
   "source": [
    "import smtplib\n",
    "from email.mime.text import MIMEText\n",
    "from email.mime.image import MIMEImage\n",
    "from email.mime.multipart import MIMEMultipart\n",
    "\n",
    "# Define the email details\n",
    "subject = \"Test Email with Image\"\n",
    "body = \"\"\"\n",
    "<html>\n",
    "  <body>\n",
    "    <img src=\"cid:logo\" alt=\"Test Image\">\n",
    "    <h3>Welcome to SHEMS!</h3>\n",
    "    <div>A warm welcome to SHEMS! We're thrilled to have you on board.</div>\n",
    "    <div>Your registration is now complete, and we're excited to help you manage your home's energy usage efficiently. To get started, please note down your login details:</div>\n",
    "    <ul>\n",
    "    <li>\n",
    "    <div>Home Name: <b>[Home Name]</b></div>\n",
    "    </li>\n",
    "    <li>\n",
    "    <div>Home ID: <b>[Home ID]</b></div>\n",
    "    </li>\n",
    "    </ul>\n",
    "    <div>These will be your login credentials, so please remember them for future reference.</div>\n",
    "    <div>With SHEMS, you'll be able to monitor and control your home's energy consumption, receive personalized recommendations, and enjoy a more sustainable living experience.</div>\n",
    "    <div>If you have any questions or need assistance, feel free to reply to this email or contact our support team.</div>\n",
    "    <div>Thank you for choosing SHEMS!</div>\n",
    "    <div>Best regards,<br />The SHEMS Team</div>\n",
    "  </body>\n",
    "</html>\n",
    "\"\"\"\n",
    "from_email = \"odendavid0@gmail.com\"\n",
    "to_email = \"davidodenikpi@gmail.com\"\n",
    "password = \"hhpr lmml ulhk qytb\"\n",
    "image_path = \"../images/mail.png\"\n",
    "\n",
    "# Create a multipart message\n",
    "msg = MIMEMultipart()\n",
    "msg['Subject'] = subject\n",
    "msg['From'] = from_email\n",
    "msg['To'] = to_email\n",
    "\n",
    "# Attach the HTML message\n",
    "html = MIMEText(body, 'html')\n",
    "msg.attach(html)\n",
    "\n",
    "# Attach the image\n",
    "image = MIMEImage(open(image_path, 'rb').read())\n",
    "image.add_header('Content-ID', '<logo>')\n",
    "image.add_header('Content-Disposition', 'inline')\n",
    "msg.attach(image)\n",
    "\n",
    "# Send the email using SMTP\n",
    "server = smtplib.SMTP('smtp.gmail.com', 587)\n",
    "server.starttls()\n",
    "server.login(from_email, password)\n",
    "server.sendmail(from_email, to_email, msg.as_string())\n",
    "server.quit()\n",
    "\n",
    "print(\"Email sent successfully!\")"
   ]
  },
  {
   "cell_type": "code",
   "execution_count": null,
   "metadata": {},
   "outputs": [],
   "source": []
  }
 ],
 "metadata": {
  "kernelspec": {
   "display_name": "venv",
   "language": "python",
   "name": "python3"
  },
  "language_info": {
   "codemirror_mode": {
    "name": "ipython",
    "version": 3
   },
   "file_extension": ".py",
   "mimetype": "text/x-python",
   "name": "python",
   "nbconvert_exporter": "python",
   "pygments_lexer": "ipython3",
   "version": "3.8.10"
  },
  "orig_nbformat": 4
 },
 "nbformat": 4,
 "nbformat_minor": 2
}
