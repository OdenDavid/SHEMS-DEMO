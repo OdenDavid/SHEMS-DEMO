{
 "cells": [
  {
   "cell_type": "code",
   "execution_count": 5,
   "metadata": {},
   "outputs": [],
   "source": [
    "import pandas as pd\n",
    "import numpy as np\n",
    "\n",
    "# Create a date range for 1 day, with hourly frequency\n",
    "date_range = pd.date_range(start='2024-07-23', periods=24, freq='H')\n",
    "\n",
    "# Generate random data points for Air-Conditioner and Fridge\n",
    "np.random.seed(0)  # For reproducibility\n",
    "air_conditioner_kwh = np.random.uniform(0.1, 0.5, 24)  # Random values between 0.1 and 0.5 kWh\n",
    "fridge_kwh = np.random.uniform(0.05, 0.2, 24)  # Random values between 0.05 and 0.2 kWh\n",
    "\n",
    "# Generate random data points for Energy Produced\n",
    "energy_produced_kwh = np.random.uniform(0.5, 1.0, 24)  # Random values between 0.5 and 1.0 kWh\n",
    "\n",
    "# Create a dictionary with the generated data\n",
    "data = {\n",
    "    'Date': date_range,\n",
    "    'Air-Conditioner (kWh)': air_conditioner_kwh,\n",
    "    'Fridge (kWh)': fridge_kwh,\n",
    "    'Energy Produced (kWh)': energy_produced_kwh\n",
    "}\n",
    "\n",
    "# Create a DataFrame\n",
    "df = pd.DataFrame(data)\n",
    "\n",
    "# Set the 'Date' column as the index\n",
    "df.set_index('Date', inplace=True)\n",
    "\n",
    "df.to_csv(\"dummy.csv\")"
   ]
  },
  {
   "cell_type": "code",
   "execution_count": 6,
   "metadata": {},
   "outputs": [
    {
     "data": {
      "text/html": [
       "<div>\n",
       "<style scoped>\n",
       "    .dataframe tbody tr th:only-of-type {\n",
       "        vertical-align: middle;\n",
       "    }\n",
       "\n",
       "    .dataframe tbody tr th {\n",
       "        vertical-align: top;\n",
       "    }\n",
       "\n",
       "    .dataframe thead th {\n",
       "        text-align: right;\n",
       "    }\n",
       "</style>\n",
       "<table border=\"1\" class=\"dataframe\">\n",
       "  <thead>\n",
       "    <tr style=\"text-align: right;\">\n",
       "      <th></th>\n",
       "      <th>Air-Conditioner (kWh)</th>\n",
       "      <th>Fridge (kWh)</th>\n",
       "      <th>Energy Produced (kWh)</th>\n",
       "    </tr>\n",
       "    <tr>\n",
       "      <th>Date</th>\n",
       "      <th></th>\n",
       "      <th></th>\n",
       "      <th></th>\n",
       "    </tr>\n",
       "  </thead>\n",
       "  <tbody>\n",
       "    <tr>\n",
       "      <th>2024-07-23 00:00:00</th>\n",
       "      <td>0.319525</td>\n",
       "      <td>0.067741</td>\n",
       "      <td>0.657714</td>\n",
       "    </tr>\n",
       "    <tr>\n",
       "      <th>2024-07-23 01:00:00</th>\n",
       "      <td>0.386076</td>\n",
       "      <td>0.145988</td>\n",
       "      <td>0.681855</td>\n",
       "    </tr>\n",
       "    <tr>\n",
       "      <th>2024-07-23 02:00:00</th>\n",
       "      <td>0.341105</td>\n",
       "      <td>0.071503</td>\n",
       "      <td>0.785098</td>\n",
       "    </tr>\n",
       "    <tr>\n",
       "      <th>2024-07-23 03:00:00</th>\n",
       "      <td>0.317953</td>\n",
       "      <td>0.191700</td>\n",
       "      <td>0.719301</td>\n",
       "    </tr>\n",
       "    <tr>\n",
       "      <th>2024-07-23 04:00:00</th>\n",
       "      <td>0.269462</td>\n",
       "      <td>0.128277</td>\n",
       "      <td>0.994187</td>\n",
       "    </tr>\n",
       "    <tr>\n",
       "      <th>2024-07-23 05:00:00</th>\n",
       "      <td>0.358358</td>\n",
       "      <td>0.112199</td>\n",
       "      <td>0.551022</td>\n",
       "    </tr>\n",
       "    <tr>\n",
       "      <th>2024-07-23 06:00:00</th>\n",
       "      <td>0.275035</td>\n",
       "      <td>0.089683</td>\n",
       "      <td>0.604438</td>\n",
       "    </tr>\n",
       "    <tr>\n",
       "      <th>2024-07-23 07:00:00</th>\n",
       "      <td>0.456709</td>\n",
       "      <td>0.166135</td>\n",
       "      <td>0.580655</td>\n",
       "    </tr>\n",
       "    <tr>\n",
       "      <th>2024-07-23 08:00:00</th>\n",
       "      <td>0.485465</td>\n",
       "      <td>0.118423</td>\n",
       "      <td>0.826554</td>\n",
       "    </tr>\n",
       "    <tr>\n",
       "      <th>2024-07-23 09:00:00</th>\n",
       "      <td>0.253377</td>\n",
       "      <td>0.135265</td>\n",
       "      <td>0.626646</td>\n",
       "    </tr>\n",
       "    <tr>\n",
       "      <th>2024-07-23 10:00:00</th>\n",
       "      <td>0.416690</td>\n",
       "      <td>0.052818</td>\n",
       "      <td>0.733155</td>\n",
       "    </tr>\n",
       "    <tr>\n",
       "      <th>2024-07-23 11:00:00</th>\n",
       "      <td>0.311558</td>\n",
       "      <td>0.142645</td>\n",
       "      <td>0.622213</td>\n",
       "    </tr>\n",
       "    <tr>\n",
       "      <th>2024-07-23 12:00:00</th>\n",
       "      <td>0.327218</td>\n",
       "      <td>0.141814</td>\n",
       "      <td>0.579485</td>\n",
       "    </tr>\n",
       "    <tr>\n",
       "      <th>2024-07-23 13:00:00</th>\n",
       "      <td>0.470239</td>\n",
       "      <td>0.142540</td>\n",
       "      <td>0.555188</td>\n",
       "    </tr>\n",
       "    <tr>\n",
       "      <th>2024-07-23 14:00:00</th>\n",
       "      <td>0.128414</td>\n",
       "      <td>0.191562</td>\n",
       "      <td>0.828165</td>\n",
       "    </tr>\n",
       "    <tr>\n",
       "      <th>2024-07-23 15:00:00</th>\n",
       "      <td>0.134852</td>\n",
       "      <td>0.152273</td>\n",
       "      <td>0.569091</td>\n",
       "    </tr>\n",
       "    <tr>\n",
       "      <th>2024-07-23 16:00:00</th>\n",
       "      <td>0.108087</td>\n",
       "      <td>0.103926</td>\n",
       "      <td>0.598291</td>\n",
       "    </tr>\n",
       "    <tr>\n",
       "      <th>2024-07-23 17:00:00</th>\n",
       "      <td>0.433048</td>\n",
       "      <td>0.115555</td>\n",
       "      <td>0.684363</td>\n",
       "    </tr>\n",
       "    <tr>\n",
       "      <th>2024-07-23 18:00:00</th>\n",
       "      <td>0.411263</td>\n",
       "      <td>0.154645</td>\n",
       "      <td>0.910497</td>\n",
       "    </tr>\n",
       "    <tr>\n",
       "      <th>2024-07-23 19:00:00</th>\n",
       "      <td>0.448005</td>\n",
       "      <td>0.059034</td>\n",
       "      <td>0.548551</td>\n",
       "    </tr>\n",
       "    <tr>\n",
       "      <th>2024-07-23 20:00:00</th>\n",
       "      <td>0.491447</td>\n",
       "      <td>0.150015</td>\n",
       "      <td>0.918972</td>\n",
       "    </tr>\n",
       "    <tr>\n",
       "      <th>2024-07-23 21:00:00</th>\n",
       "      <td>0.419663</td>\n",
       "      <td>0.150596</td>\n",
       "      <td>0.548049</td>\n",
       "    </tr>\n",
       "    <tr>\n",
       "      <th>2024-07-23 22:00:00</th>\n",
       "      <td>0.284592</td>\n",
       "      <td>0.081557</td>\n",
       "      <td>0.988230</td>\n",
       "    </tr>\n",
       "    <tr>\n",
       "      <th>2024-07-23 23:00:00</th>\n",
       "      <td>0.412212</td>\n",
       "      <td>0.069339</td>\n",
       "      <td>0.734326</td>\n",
       "    </tr>\n",
       "  </tbody>\n",
       "</table>\n",
       "</div>"
      ],
      "text/plain": [
       "                     Air-Conditioner (kWh)  Fridge (kWh)  \\\n",
       "Date                                                       \n",
       "2024-07-23 00:00:00               0.319525      0.067741   \n",
       "2024-07-23 01:00:00               0.386076      0.145988   \n",
       "2024-07-23 02:00:00               0.341105      0.071503   \n",
       "2024-07-23 03:00:00               0.317953      0.191700   \n",
       "2024-07-23 04:00:00               0.269462      0.128277   \n",
       "2024-07-23 05:00:00               0.358358      0.112199   \n",
       "2024-07-23 06:00:00               0.275035      0.089683   \n",
       "2024-07-23 07:00:00               0.456709      0.166135   \n",
       "2024-07-23 08:00:00               0.485465      0.118423   \n",
       "2024-07-23 09:00:00               0.253377      0.135265   \n",
       "2024-07-23 10:00:00               0.416690      0.052818   \n",
       "2024-07-23 11:00:00               0.311558      0.142645   \n",
       "2024-07-23 12:00:00               0.327218      0.141814   \n",
       "2024-07-23 13:00:00               0.470239      0.142540   \n",
       "2024-07-23 14:00:00               0.128414      0.191562   \n",
       "2024-07-23 15:00:00               0.134852      0.152273   \n",
       "2024-07-23 16:00:00               0.108087      0.103926   \n",
       "2024-07-23 17:00:00               0.433048      0.115555   \n",
       "2024-07-23 18:00:00               0.411263      0.154645   \n",
       "2024-07-23 19:00:00               0.448005      0.059034   \n",
       "2024-07-23 20:00:00               0.491447      0.150015   \n",
       "2024-07-23 21:00:00               0.419663      0.150596   \n",
       "2024-07-23 22:00:00               0.284592      0.081557   \n",
       "2024-07-23 23:00:00               0.412212      0.069339   \n",
       "\n",
       "                     Energy Produced (kWh)  \n",
       "Date                                        \n",
       "2024-07-23 00:00:00               0.657714  \n",
       "2024-07-23 01:00:00               0.681855  \n",
       "2024-07-23 02:00:00               0.785098  \n",
       "2024-07-23 03:00:00               0.719301  \n",
       "2024-07-23 04:00:00               0.994187  \n",
       "2024-07-23 05:00:00               0.551022  \n",
       "2024-07-23 06:00:00               0.604438  \n",
       "2024-07-23 07:00:00               0.580655  \n",
       "2024-07-23 08:00:00               0.826554  \n",
       "2024-07-23 09:00:00               0.626646  \n",
       "2024-07-23 10:00:00               0.733155  \n",
       "2024-07-23 11:00:00               0.622213  \n",
       "2024-07-23 12:00:00               0.579485  \n",
       "2024-07-23 13:00:00               0.555188  \n",
       "2024-07-23 14:00:00               0.828165  \n",
       "2024-07-23 15:00:00               0.569091  \n",
       "2024-07-23 16:00:00               0.598291  \n",
       "2024-07-23 17:00:00               0.684363  \n",
       "2024-07-23 18:00:00               0.910497  \n",
       "2024-07-23 19:00:00               0.548551  \n",
       "2024-07-23 20:00:00               0.918972  \n",
       "2024-07-23 21:00:00               0.548049  \n",
       "2024-07-23 22:00:00               0.988230  \n",
       "2024-07-23 23:00:00               0.734326  "
      ]
     },
     "execution_count": 6,
     "metadata": {},
     "output_type": "execute_result"
    }
   ],
   "source": [
    "df"
   ]
  },
  {
   "cell_type": "code",
   "execution_count": 2,
   "metadata": {},
   "outputs": [
    {
     "data": {
      "application/vnd.plotly.v1+json": {
       "config": {
        "plotlyServerURL": "https://plot.ly"
       },
       "data": [
        {
         "hovertemplate": "variable=Air-Conditioner (kWh)<br>Hour=%{x}<br>value=%{y}<extra></extra>",
         "legendgroup": "Air-Conditioner (kWh)",
         "line": {
          "color": "#636efa",
          "dash": "solid"
         },
         "marker": {
          "symbol": "circle"
         },
         "mode": "lines",
         "name": "Air-Conditioner (kWh)",
         "orientation": "v",
         "showlegend": true,
         "type": "scatter",
         "x": [
          0,
          1,
          2,
          3,
          4,
          5,
          6,
          7,
          8,
          9,
          10,
          11,
          12,
          13,
          14,
          15,
          16,
          17,
          18,
          19,
          20,
          21,
          22,
          23
         ],
         "xaxis": "x",
         "y": [
          0.3195254015709299,
          0.3860757465489678,
          0.3411053504286575,
          0.3179532731987587,
          0.2694619197355619,
          0.3583576452266624,
          0.275034884505077,
          0.4567092003128319,
          0.4854651042004118,
          0.2533766075303111,
          0.4166900152330658,
          0.3115579679011618,
          0.3272178244375729,
          0.4702386553170644,
          0.1284144232791547,
          0.1348517198806162,
          0.1080873589761303,
          0.4330479382191752,
          0.4112627003799401,
          0.4480048592987277,
          0.4914473368931056,
          0.4196634256866894,
          0.2845917449011728,
          0.4122116705145822
         ],
         "yaxis": "y"
        },
        {
         "hovertemplate": "variable=Fridge (kWh)<br>Hour=%{x}<br>value=%{y}<extra></extra>",
         "legendgroup": "Fridge (kWh)",
         "line": {
          "color": "#EF553B",
          "dash": "solid"
         },
         "marker": {
          "symbol": "circle"
         },
         "mode": "lines",
         "name": "Fridge (kWh)",
         "orientation": "v",
         "showlegend": true,
         "type": "scatter",
         "x": [
          0,
          1,
          2,
          3,
          4,
          5,
          6,
          7,
          8,
          9,
          10,
          11,
          12,
          13,
          14,
          15,
          16,
          17,
          18,
          19,
          20,
          21,
          22,
          23
         ],
         "xaxis": "x",
         "y": [
          0.0677411638803399,
          0.1459881531991285,
          0.0715029931113569,
          0.1917003375574376,
          0.1282772482625107,
          0.1121992909985785,
          0.089683341815694,
          0.1661350534151325,
          0.1184225498324823,
          0.1352650923302973,
          0.0528184700654532,
          0.1426453245613815,
          0.1418143584083632,
          0.1425400995312135,
          0.1915622117771936,
          0.1522730448655225,
          0.1039261850860679,
          0.1155547930699012,
          0.1546446793890897,
          0.0590338207443904,
          0.1500150073168501,
          0.1505956804427239,
          0.0815573841610761,
          0.069338944648228
         ],
         "yaxis": "y"
        }
       ],
       "layout": {
        "legend": {
         "title": {
          "text": "variable"
         },
         "tracegroupgap": 0
        },
        "template": {
         "data": {
          "bar": [
           {
            "error_x": {
             "color": "#2a3f5f"
            },
            "error_y": {
             "color": "#2a3f5f"
            },
            "marker": {
             "line": {
              "color": "#E5ECF6",
              "width": 0.5
             },
             "pattern": {
              "fillmode": "overlay",
              "size": 10,
              "solidity": 0.2
             }
            },
            "type": "bar"
           }
          ],
          "barpolar": [
           {
            "marker": {
             "line": {
              "color": "#E5ECF6",
              "width": 0.5
             },
             "pattern": {
              "fillmode": "overlay",
              "size": 10,
              "solidity": 0.2
             }
            },
            "type": "barpolar"
           }
          ],
          "carpet": [
           {
            "aaxis": {
             "endlinecolor": "#2a3f5f",
             "gridcolor": "white",
             "linecolor": "white",
             "minorgridcolor": "white",
             "startlinecolor": "#2a3f5f"
            },
            "baxis": {
             "endlinecolor": "#2a3f5f",
             "gridcolor": "white",
             "linecolor": "white",
             "minorgridcolor": "white",
             "startlinecolor": "#2a3f5f"
            },
            "type": "carpet"
           }
          ],
          "choropleth": [
           {
            "colorbar": {
             "outlinewidth": 0,
             "ticks": ""
            },
            "type": "choropleth"
           }
          ],
          "contour": [
           {
            "colorbar": {
             "outlinewidth": 0,
             "ticks": ""
            },
            "colorscale": [
             [
              0,
              "#0d0887"
             ],
             [
              0.1111111111111111,
              "#46039f"
             ],
             [
              0.2222222222222222,
              "#7201a8"
             ],
             [
              0.3333333333333333,
              "#9c179e"
             ],
             [
              0.4444444444444444,
              "#bd3786"
             ],
             [
              0.5555555555555556,
              "#d8576b"
             ],
             [
              0.6666666666666666,
              "#ed7953"
             ],
             [
              0.7777777777777778,
              "#fb9f3a"
             ],
             [
              0.8888888888888888,
              "#fdca26"
             ],
             [
              1,
              "#f0f921"
             ]
            ],
            "type": "contour"
           }
          ],
          "contourcarpet": [
           {
            "colorbar": {
             "outlinewidth": 0,
             "ticks": ""
            },
            "type": "contourcarpet"
           }
          ],
          "heatmap": [
           {
            "colorbar": {
             "outlinewidth": 0,
             "ticks": ""
            },
            "colorscale": [
             [
              0,
              "#0d0887"
             ],
             [
              0.1111111111111111,
              "#46039f"
             ],
             [
              0.2222222222222222,
              "#7201a8"
             ],
             [
              0.3333333333333333,
              "#9c179e"
             ],
             [
              0.4444444444444444,
              "#bd3786"
             ],
             [
              0.5555555555555556,
              "#d8576b"
             ],
             [
              0.6666666666666666,
              "#ed7953"
             ],
             [
              0.7777777777777778,
              "#fb9f3a"
             ],
             [
              0.8888888888888888,
              "#fdca26"
             ],
             [
              1,
              "#f0f921"
             ]
            ],
            "type": "heatmap"
           }
          ],
          "heatmapgl": [
           {
            "colorbar": {
             "outlinewidth": 0,
             "ticks": ""
            },
            "colorscale": [
             [
              0,
              "#0d0887"
             ],
             [
              0.1111111111111111,
              "#46039f"
             ],
             [
              0.2222222222222222,
              "#7201a8"
             ],
             [
              0.3333333333333333,
              "#9c179e"
             ],
             [
              0.4444444444444444,
              "#bd3786"
             ],
             [
              0.5555555555555556,
              "#d8576b"
             ],
             [
              0.6666666666666666,
              "#ed7953"
             ],
             [
              0.7777777777777778,
              "#fb9f3a"
             ],
             [
              0.8888888888888888,
              "#fdca26"
             ],
             [
              1,
              "#f0f921"
             ]
            ],
            "type": "heatmapgl"
           }
          ],
          "histogram": [
           {
            "marker": {
             "pattern": {
              "fillmode": "overlay",
              "size": 10,
              "solidity": 0.2
             }
            },
            "type": "histogram"
           }
          ],
          "histogram2d": [
           {
            "colorbar": {
             "outlinewidth": 0,
             "ticks": ""
            },
            "colorscale": [
             [
              0,
              "#0d0887"
             ],
             [
              0.1111111111111111,
              "#46039f"
             ],
             [
              0.2222222222222222,
              "#7201a8"
             ],
             [
              0.3333333333333333,
              "#9c179e"
             ],
             [
              0.4444444444444444,
              "#bd3786"
             ],
             [
              0.5555555555555556,
              "#d8576b"
             ],
             [
              0.6666666666666666,
              "#ed7953"
             ],
             [
              0.7777777777777778,
              "#fb9f3a"
             ],
             [
              0.8888888888888888,
              "#fdca26"
             ],
             [
              1,
              "#f0f921"
             ]
            ],
            "type": "histogram2d"
           }
          ],
          "histogram2dcontour": [
           {
            "colorbar": {
             "outlinewidth": 0,
             "ticks": ""
            },
            "colorscale": [
             [
              0,
              "#0d0887"
             ],
             [
              0.1111111111111111,
              "#46039f"
             ],
             [
              0.2222222222222222,
              "#7201a8"
             ],
             [
              0.3333333333333333,
              "#9c179e"
             ],
             [
              0.4444444444444444,
              "#bd3786"
             ],
             [
              0.5555555555555556,
              "#d8576b"
             ],
             [
              0.6666666666666666,
              "#ed7953"
             ],
             [
              0.7777777777777778,
              "#fb9f3a"
             ],
             [
              0.8888888888888888,
              "#fdca26"
             ],
             [
              1,
              "#f0f921"
             ]
            ],
            "type": "histogram2dcontour"
           }
          ],
          "mesh3d": [
           {
            "colorbar": {
             "outlinewidth": 0,
             "ticks": ""
            },
            "type": "mesh3d"
           }
          ],
          "parcoords": [
           {
            "line": {
             "colorbar": {
              "outlinewidth": 0,
              "ticks": ""
             }
            },
            "type": "parcoords"
           }
          ],
          "pie": [
           {
            "automargin": true,
            "type": "pie"
           }
          ],
          "scatter": [
           {
            "fillpattern": {
             "fillmode": "overlay",
             "size": 10,
             "solidity": 0.2
            },
            "type": "scatter"
           }
          ],
          "scatter3d": [
           {
            "line": {
             "colorbar": {
              "outlinewidth": 0,
              "ticks": ""
             }
            },
            "marker": {
             "colorbar": {
              "outlinewidth": 0,
              "ticks": ""
             }
            },
            "type": "scatter3d"
           }
          ],
          "scattercarpet": [
           {
            "marker": {
             "colorbar": {
              "outlinewidth": 0,
              "ticks": ""
             }
            },
            "type": "scattercarpet"
           }
          ],
          "scattergeo": [
           {
            "marker": {
             "colorbar": {
              "outlinewidth": 0,
              "ticks": ""
             }
            },
            "type": "scattergeo"
           }
          ],
          "scattergl": [
           {
            "marker": {
             "colorbar": {
              "outlinewidth": 0,
              "ticks": ""
             }
            },
            "type": "scattergl"
           }
          ],
          "scattermapbox": [
           {
            "marker": {
             "colorbar": {
              "outlinewidth": 0,
              "ticks": ""
             }
            },
            "type": "scattermapbox"
           }
          ],
          "scatterpolar": [
           {
            "marker": {
             "colorbar": {
              "outlinewidth": 0,
              "ticks": ""
             }
            },
            "type": "scatterpolar"
           }
          ],
          "scatterpolargl": [
           {
            "marker": {
             "colorbar": {
              "outlinewidth": 0,
              "ticks": ""
             }
            },
            "type": "scatterpolargl"
           }
          ],
          "scatterternary": [
           {
            "marker": {
             "colorbar": {
              "outlinewidth": 0,
              "ticks": ""
             }
            },
            "type": "scatterternary"
           }
          ],
          "surface": [
           {
            "colorbar": {
             "outlinewidth": 0,
             "ticks": ""
            },
            "colorscale": [
             [
              0,
              "#0d0887"
             ],
             [
              0.1111111111111111,
              "#46039f"
             ],
             [
              0.2222222222222222,
              "#7201a8"
             ],
             [
              0.3333333333333333,
              "#9c179e"
             ],
             [
              0.4444444444444444,
              "#bd3786"
             ],
             [
              0.5555555555555556,
              "#d8576b"
             ],
             [
              0.6666666666666666,
              "#ed7953"
             ],
             [
              0.7777777777777778,
              "#fb9f3a"
             ],
             [
              0.8888888888888888,
              "#fdca26"
             ],
             [
              1,
              "#f0f921"
             ]
            ],
            "type": "surface"
           }
          ],
          "table": [
           {
            "cells": {
             "fill": {
              "color": "#EBF0F8"
             },
             "line": {
              "color": "white"
             }
            },
            "header": {
             "fill": {
              "color": "#C8D4E3"
             },
             "line": {
              "color": "white"
             }
            },
            "type": "table"
           }
          ]
         },
         "layout": {
          "annotationdefaults": {
           "arrowcolor": "#2a3f5f",
           "arrowhead": 0,
           "arrowwidth": 1
          },
          "autotypenumbers": "strict",
          "coloraxis": {
           "colorbar": {
            "outlinewidth": 0,
            "ticks": ""
           }
          },
          "colorscale": {
           "diverging": [
            [
             0,
             "#8e0152"
            ],
            [
             0.1,
             "#c51b7d"
            ],
            [
             0.2,
             "#de77ae"
            ],
            [
             0.3,
             "#f1b6da"
            ],
            [
             0.4,
             "#fde0ef"
            ],
            [
             0.5,
             "#f7f7f7"
            ],
            [
             0.6,
             "#e6f5d0"
            ],
            [
             0.7,
             "#b8e186"
            ],
            [
             0.8,
             "#7fbc41"
            ],
            [
             0.9,
             "#4d9221"
            ],
            [
             1,
             "#276419"
            ]
           ],
           "sequential": [
            [
             0,
             "#0d0887"
            ],
            [
             0.1111111111111111,
             "#46039f"
            ],
            [
             0.2222222222222222,
             "#7201a8"
            ],
            [
             0.3333333333333333,
             "#9c179e"
            ],
            [
             0.4444444444444444,
             "#bd3786"
            ],
            [
             0.5555555555555556,
             "#d8576b"
            ],
            [
             0.6666666666666666,
             "#ed7953"
            ],
            [
             0.7777777777777778,
             "#fb9f3a"
            ],
            [
             0.8888888888888888,
             "#fdca26"
            ],
            [
             1,
             "#f0f921"
            ]
           ],
           "sequentialminus": [
            [
             0,
             "#0d0887"
            ],
            [
             0.1111111111111111,
             "#46039f"
            ],
            [
             0.2222222222222222,
             "#7201a8"
            ],
            [
             0.3333333333333333,
             "#9c179e"
            ],
            [
             0.4444444444444444,
             "#bd3786"
            ],
            [
             0.5555555555555556,
             "#d8576b"
            ],
            [
             0.6666666666666666,
             "#ed7953"
            ],
            [
             0.7777777777777778,
             "#fb9f3a"
            ],
            [
             0.8888888888888888,
             "#fdca26"
            ],
            [
             1,
             "#f0f921"
            ]
           ]
          },
          "colorway": [
           "#636efa",
           "#EF553B",
           "#00cc96",
           "#ab63fa",
           "#FFA15A",
           "#19d3f3",
           "#FF6692",
           "#B6E880",
           "#FF97FF",
           "#FECB52"
          ],
          "font": {
           "color": "#2a3f5f"
          },
          "geo": {
           "bgcolor": "white",
           "lakecolor": "white",
           "landcolor": "#E5ECF6",
           "showlakes": true,
           "showland": true,
           "subunitcolor": "white"
          },
          "hoverlabel": {
           "align": "left"
          },
          "hovermode": "closest",
          "mapbox": {
           "style": "light"
          },
          "paper_bgcolor": "white",
          "plot_bgcolor": "#E5ECF6",
          "polar": {
           "angularaxis": {
            "gridcolor": "white",
            "linecolor": "white",
            "ticks": ""
           },
           "bgcolor": "#E5ECF6",
           "radialaxis": {
            "gridcolor": "white",
            "linecolor": "white",
            "ticks": ""
           }
          },
          "scene": {
           "xaxis": {
            "backgroundcolor": "#E5ECF6",
            "gridcolor": "white",
            "gridwidth": 2,
            "linecolor": "white",
            "showbackground": true,
            "ticks": "",
            "zerolinecolor": "white"
           },
           "yaxis": {
            "backgroundcolor": "#E5ECF6",
            "gridcolor": "white",
            "gridwidth": 2,
            "linecolor": "white",
            "showbackground": true,
            "ticks": "",
            "zerolinecolor": "white"
           },
           "zaxis": {
            "backgroundcolor": "#E5ECF6",
            "gridcolor": "white",
            "gridwidth": 2,
            "linecolor": "white",
            "showbackground": true,
            "ticks": "",
            "zerolinecolor": "white"
           }
          },
          "shapedefaults": {
           "line": {
            "color": "#2a3f5f"
           }
          },
          "ternary": {
           "aaxis": {
            "gridcolor": "white",
            "linecolor": "white",
            "ticks": ""
           },
           "baxis": {
            "gridcolor": "white",
            "linecolor": "white",
            "ticks": ""
           },
           "bgcolor": "#E5ECF6",
           "caxis": {
            "gridcolor": "white",
            "linecolor": "white",
            "ticks": ""
           }
          },
          "title": {
           "x": 0.05
          },
          "xaxis": {
           "automargin": true,
           "gridcolor": "white",
           "linecolor": "white",
           "ticks": "",
           "title": {
            "standoff": 15
           },
           "zerolinecolor": "white",
           "zerolinewidth": 2
          },
          "yaxis": {
           "automargin": true,
           "gridcolor": "white",
           "linecolor": "white",
           "ticks": "",
           "title": {
            "standoff": 15
           },
           "zerolinecolor": "white",
           "zerolinewidth": 2
          }
         }
        },
        "title": {
         "text": "Consumption over Time (Day 1)"
        },
        "xaxis": {
         "anchor": "y",
         "domain": [
          0,
          1
         ],
         "title": {
          "text": "Hour"
         }
        },
        "yaxis": {
         "anchor": "x",
         "domain": [
          0,
          1
         ],
         "title": {
          "text": "value"
         }
        }
       }
      }
     },
     "metadata": {},
     "output_type": "display_data"
    }
   ],
   "source": [
    "import pandas as pd\n",
    "import plotly.express as px\n",
    "\n",
    "df = pd.read_csv(\"dummy.csv\")\n",
    "df['Date'] = pd.to_datetime(df.Date, format='%Y-%m-%d %H:%M:%S')\n",
    "\n",
    "# Melt the DataFrame to pivot the consumption data\n",
    "df_melt = pd.melt(df.reset_index(), id_vars='Date', value_vars=['Air-Conditioner (kWh)', 'Fridge (kWh)'])\n",
    "\n",
    "# Extract the hour from the Date column\n",
    "df_melt['Hour'] = df_melt['Date'].dt.hour\n",
    "\n",
    "#Rename column\n",
    "df_melt.rename(columns={'value': 'Energy (kWh)', 'variable': 'Appliance'}, inplace=True)\n",
    "\n",
    "# Plot the line chart\n",
    "fig = px.line(df_melt, x='Hour', y='Energy (kWh)', color='Appliance', title='Consumption over Time (Day 1)')\n",
    "\n",
    "# Show the plot\n",
    "fig.show()"
   ]
  },
  {
   "cell_type": "code",
   "execution_count": 3,
   "metadata": {},
   "outputs": [],
   "source": [
    "# Create a dictionary with appliance data\n",
    "appliance_data = {\n",
    "    'Appliance ID': [1, 2, 3, 4],\n",
    "    'Appliance Name': ['Fridge', 'Air-conditioner', 'Air-conditioner', 'Fridge'],\n",
    "    'Description': ['Standard Fridge', '1HP Air-conditioner', '2HP Air-conditioner', 'Mini Fridge'],\n",
    "    'Input Measurement (kWh)': [0.2, 0.5, 1.0, 0.1],\n",
    "    'Output Measurement (°C)': [-5, -10, -15, -3]\n",
    "}\n",
    "\n",
    "appliance_df = pd.DataFrame(appliance_data)\n",
    "\n",
    "appliance_df.to_csv(\"appliances.csv\")"
   ]
  },
  {
   "cell_type": "code",
   "execution_count": 4,
   "metadata": {},
   "outputs": [],
   "source": [
    "# Create a dictionary with appliance usage data\n",
    "appliance_usage_data = {\n",
    "    'Home ID': [1, 1, 1, 2, 2, 3, 3, 3, 4, 4],\n",
    "    'Appliance ID': [1, 2, 3, 1, 4, 2, 3, 4, 1, 2],\n",
    "    'Current Energy Consumption (kWh)': [0.2, 0.5, 1.0, 0.1, 0.2, 0.6, 1.1, 0.3, 0.2, 0.4],\n",
    "    'Current Output (°C)': [-5, -10, -15, -3, -5, -11, -16, -4, -5, -9]\n",
    "}\n",
    "\n",
    "appliance_usage_df = pd.DataFrame(appliance_usage_data)\n",
    "\n",
    "appliance_usage_df.to_csv(\"usage.csv\")"
   ]
  },
  {
   "cell_type": "code",
   "execution_count": 5,
   "metadata": {},
   "outputs": [
    {
     "data": {
      "text/html": [
       "<div>\n",
       "<style scoped>\n",
       "    .dataframe tbody tr th:only-of-type {\n",
       "        vertical-align: middle;\n",
       "    }\n",
       "\n",
       "    .dataframe tbody tr th {\n",
       "        vertical-align: top;\n",
       "    }\n",
       "\n",
       "    .dataframe thead th {\n",
       "        text-align: right;\n",
       "    }\n",
       "</style>\n",
       "<table border=\"1\" class=\"dataframe\">\n",
       "  <thead>\n",
       "    <tr style=\"text-align: right;\">\n",
       "      <th></th>\n",
       "      <th>Home ID</th>\n",
       "      <th>Appliance ID</th>\n",
       "      <th>Current Energy Consumption (kWh)</th>\n",
       "      <th>Current Output (°C)</th>\n",
       "    </tr>\n",
       "  </thead>\n",
       "  <tbody>\n",
       "    <tr>\n",
       "      <th>0</th>\n",
       "      <td>1</td>\n",
       "      <td>1</td>\n",
       "      <td>0.2</td>\n",
       "      <td>-5</td>\n",
       "    </tr>\n",
       "    <tr>\n",
       "      <th>1</th>\n",
       "      <td>1</td>\n",
       "      <td>2</td>\n",
       "      <td>0.5</td>\n",
       "      <td>-10</td>\n",
       "    </tr>\n",
       "    <tr>\n",
       "      <th>2</th>\n",
       "      <td>1</td>\n",
       "      <td>3</td>\n",
       "      <td>1.0</td>\n",
       "      <td>-15</td>\n",
       "    </tr>\n",
       "    <tr>\n",
       "      <th>3</th>\n",
       "      <td>2</td>\n",
       "      <td>1</td>\n",
       "      <td>0.1</td>\n",
       "      <td>-3</td>\n",
       "    </tr>\n",
       "    <tr>\n",
       "      <th>4</th>\n",
       "      <td>2</td>\n",
       "      <td>4</td>\n",
       "      <td>0.2</td>\n",
       "      <td>-5</td>\n",
       "    </tr>\n",
       "    <tr>\n",
       "      <th>5</th>\n",
       "      <td>3</td>\n",
       "      <td>2</td>\n",
       "      <td>0.6</td>\n",
       "      <td>-11</td>\n",
       "    </tr>\n",
       "    <tr>\n",
       "      <th>6</th>\n",
       "      <td>3</td>\n",
       "      <td>3</td>\n",
       "      <td>1.1</td>\n",
       "      <td>-16</td>\n",
       "    </tr>\n",
       "    <tr>\n",
       "      <th>7</th>\n",
       "      <td>3</td>\n",
       "      <td>4</td>\n",
       "      <td>0.3</td>\n",
       "      <td>-4</td>\n",
       "    </tr>\n",
       "    <tr>\n",
       "      <th>8</th>\n",
       "      <td>4</td>\n",
       "      <td>1</td>\n",
       "      <td>0.2</td>\n",
       "      <td>-5</td>\n",
       "    </tr>\n",
       "    <tr>\n",
       "      <th>9</th>\n",
       "      <td>4</td>\n",
       "      <td>2</td>\n",
       "      <td>0.4</td>\n",
       "      <td>-9</td>\n",
       "    </tr>\n",
       "  </tbody>\n",
       "</table>\n",
       "</div>"
      ],
      "text/plain": [
       "   Home ID  Appliance ID  Current Energy Consumption (kWh)  \\\n",
       "0        1             1                               0.2   \n",
       "1        1             2                               0.5   \n",
       "2        1             3                               1.0   \n",
       "3        2             1                               0.1   \n",
       "4        2             4                               0.2   \n",
       "5        3             2                               0.6   \n",
       "6        3             3                               1.1   \n",
       "7        3             4                               0.3   \n",
       "8        4             1                               0.2   \n",
       "9        4             2                               0.4   \n",
       "\n",
       "   Current Output (°C)  \n",
       "0                   -5  \n",
       "1                  -10  \n",
       "2                  -15  \n",
       "3                   -3  \n",
       "4                   -5  \n",
       "5                  -11  \n",
       "6                  -16  \n",
       "7                   -4  \n",
       "8                   -5  \n",
       "9                   -9  "
      ]
     },
     "execution_count": 5,
     "metadata": {},
     "output_type": "execute_result"
    }
   ],
   "source": [
    "appliance_usage_df"
   ]
  },
  {
   "cell_type": "code",
   "execution_count": 6,
   "metadata": {},
   "outputs": [
    {
     "data": {
      "text/html": [
       "<div>\n",
       "<style scoped>\n",
       "    .dataframe tbody tr th:only-of-type {\n",
       "        vertical-align: middle;\n",
       "    }\n",
       "\n",
       "    .dataframe tbody tr th {\n",
       "        vertical-align: top;\n",
       "    }\n",
       "\n",
       "    .dataframe thead th {\n",
       "        text-align: right;\n",
       "    }\n",
       "</style>\n",
       "<table border=\"1\" class=\"dataframe\">\n",
       "  <thead>\n",
       "    <tr style=\"text-align: right;\">\n",
       "      <th></th>\n",
       "      <th>Appliance ID</th>\n",
       "      <th>Appliance Name</th>\n",
       "      <th>Description</th>\n",
       "      <th>Input Measurement (kWh)</th>\n",
       "      <th>Output Measurement (°C)</th>\n",
       "    </tr>\n",
       "  </thead>\n",
       "  <tbody>\n",
       "    <tr>\n",
       "      <th>0</th>\n",
       "      <td>1</td>\n",
       "      <td>Fridge</td>\n",
       "      <td>Standard Fridge</td>\n",
       "      <td>0.2</td>\n",
       "      <td>-5</td>\n",
       "    </tr>\n",
       "    <tr>\n",
       "      <th>1</th>\n",
       "      <td>2</td>\n",
       "      <td>Air-conditioner</td>\n",
       "      <td>1HP Air-conditioner</td>\n",
       "      <td>0.5</td>\n",
       "      <td>-10</td>\n",
       "    </tr>\n",
       "    <tr>\n",
       "      <th>2</th>\n",
       "      <td>3</td>\n",
       "      <td>Air-conditioner</td>\n",
       "      <td>2HP Air-conditioner</td>\n",
       "      <td>1.0</td>\n",
       "      <td>-15</td>\n",
       "    </tr>\n",
       "    <tr>\n",
       "      <th>3</th>\n",
       "      <td>4</td>\n",
       "      <td>Fridge</td>\n",
       "      <td>Mini Fridge</td>\n",
       "      <td>0.1</td>\n",
       "      <td>-3</td>\n",
       "    </tr>\n",
       "  </tbody>\n",
       "</table>\n",
       "</div>"
      ],
      "text/plain": [
       "   Appliance ID   Appliance Name          Description  \\\n",
       "0             1           Fridge      Standard Fridge   \n",
       "1             2  Air-conditioner  1HP Air-conditioner   \n",
       "2             3  Air-conditioner  2HP Air-conditioner   \n",
       "3             4           Fridge          Mini Fridge   \n",
       "\n",
       "   Input Measurement (kWh)  Output Measurement (°C)  \n",
       "0                      0.2                       -5  \n",
       "1                      0.5                      -10  \n",
       "2                      1.0                      -15  \n",
       "3                      0.1                       -3  "
      ]
     },
     "execution_count": 6,
     "metadata": {},
     "output_type": "execute_result"
    }
   ],
   "source": [
    "appliance_df"
   ]
  },
  {
   "cell_type": "code",
   "execution_count": 1,
   "metadata": {},
   "outputs": [],
   "source": [
    "import sqlite3\n",
    "\n",
    "# Connect to the SQLite database\n",
    "conn = sqlite3.connect('../Data.db')\n",
    "cursor = conn.cursor()\n",
    "\n",
    "# Create the Homes table\n",
    "cursor.execute('''\n",
    "    CREATE TABLE IF NOT EXISTS Homes (\n",
    "        HomeID INTEGER PRIMARY KEY,\n",
    "        HomeName TEXT,\n",
    "        Address TEXT,\n",
    "        Others TEXT\n",
    "    )\n",
    "''')\n",
    "\n",
    "# Create the Appliances table\n",
    "cursor.execute('''\n",
    "    CREATE TABLE IF NOT EXISTS Appliances (\n",
    "        ApplianceID INTEGER PRIMARY KEY,\n",
    "        HomeID INTEGER,\n",
    "        ApplianceName TEXT,\n",
    "        ApplianceType TEXT,\n",
    "        StartValue REAL,\n",
    "        StopValue REAL,\n",
    "        FOREIGN KEY (HomeID) REFERENCES Homes(HomeID)\n",
    "    )\n",
    "''')\n",
    "\n",
    "# Create the EnergyUsage table\n",
    "cursor.execute('''\n",
    "    CREATE TABLE IF NOT EXISTS EnergyUsage (\n",
    "        EnergyUsageID INTEGER PRIMARY KEY,\n",
    "        HomeID INTEGER,\n",
    "        ApplianceID INTEGER,\n",
    "        DateTime TEXT,\n",
    "        EnergyConsumed REAL,\n",
    "        EnergyProduced REAL,\n",
    "        CurrentOutput REAL,\n",
    "        FOREIGN KEY (HomeID) REFERENCES Homes(HomeID),\n",
    "        FOREIGN KEY (ApplianceID) REFERENCES Appliances(ApplianceID)\n",
    "    )\n",
    "''')\n",
    "\n",
    "# Commit the changes and close the connection\n",
    "conn.commit()\n",
    "conn.close()"
   ]
  },
  {
   "cell_type": "code",
   "execution_count": null,
   "metadata": {},
   "outputs": [],
   "source": []
  }
 ],
 "metadata": {
  "kernelspec": {
   "display_name": "venv",
   "language": "python",
   "name": "python3"
  },
  "language_info": {
   "codemirror_mode": {
    "name": "ipython",
    "version": 3
   },
   "file_extension": ".py",
   "mimetype": "text/x-python",
   "name": "python",
   "nbconvert_exporter": "python",
   "pygments_lexer": "ipython3",
   "version": "3.8.10"
  },
  "orig_nbformat": 4
 },
 "nbformat": 4,
 "nbformat_minor": 2
}
